{
 "cells": [
  {
   "cell_type": "code",
   "execution_count": 1,
   "id": "d9e4028bba229d15",
   "metadata": {
    "collapsed": false,
    "ExecuteTime": {
     "end_time": "2023-10-29T15:38:43.340988Z",
     "start_time": "2023-10-29T15:37:55.997613700Z"
    }
   },
   "outputs": [
    {
     "name": "stderr",
     "output_type": "stream",
     "text": [
      "[nltk_data] Downloading package punkt to\n",
      "[nltk_data]     C:\\Users\\rnrib\\AppData\\Roaming\\nltk_data...\n",
      "[nltk_data]   Unzipping tokenizers\\punkt.zip.\n",
      "[nltk_data] Downloading package stopwords to\n",
      "[nltk_data]     C:\\Users\\rnrib\\AppData\\Roaming\\nltk_data...\n",
      "[nltk_data]   Unzipping corpora\\stopwords.zip.\n"
     ]
    }
   ],
   "source": [
    "import pandas as pd\n",
    "import matplotlib.pyplot as plt\n",
    "import math as math\n",
    "import nltk\n",
    "nltk.download('punkt')\n",
    "nltk.download('stopwords')\n",
    "from nltk.tokenize import word_tokenize, sent_tokenize\n",
    "from nltk.probability import FreqDist\n",
    "from nltk.util import ngrams\n",
    "from nltk.corpus import stopwords\n",
    "import string\n",
    "import requests"
   ]
  },
  {
   "cell_type": "code",
   "execution_count": 2,
   "id": "initial_id",
   "metadata": {
    "collapsed": true,
    "ExecuteTime": {
     "end_time": "2023-10-29T15:39:18.486150600Z",
     "start_time": "2023-10-29T15:38:47.803071700Z"
    }
   },
   "outputs": [],
   "source": [
    "reviews_raw = pd.read_csv(\"c:/ricardo/meic/pri/project/data/Books_rating.csv\")"
   ]
  },
  {
   "cell_type": "code",
   "execution_count": 5,
   "id": "ff71920d988bdf59",
   "metadata": {
    "collapsed": false,
    "ExecuteTime": {
     "end_time": "2023-10-29T15:39:24.650631200Z",
     "start_time": "2023-10-29T15:39:24.641013200Z"
    }
   },
   "outputs": [
    {
     "data": {
      "text/plain": "Index(['Id', 'Title', 'Price', 'User_id', 'profileName', 'review/helpfulness',\n       'review/score', 'review/time', 'review/summary', 'review/text'],\n      dtype='object')"
     },
     "execution_count": 5,
     "metadata": {},
     "output_type": "execute_result"
    }
   ],
   "source": [
    "reviews_raw.keys()"
   ]
  },
  {
   "cell_type": "code",
   "execution_count": 6,
   "id": "3b6467bf04787021",
   "metadata": {
    "collapsed": false,
    "ExecuteTime": {
     "end_time": "2023-10-29T15:39:26.605599800Z",
     "start_time": "2023-10-29T15:39:26.490585700Z"
    }
   },
   "outputs": [],
   "source": [
    "reviews = reviews_raw.drop([\"Id\", \"Price\",\"User_id\", \"profileName\", \"review/helpfulness\", \"review/score\", \"review/time\"], axis=1, inplace=False)"
   ]
  },
  {
   "cell_type": "code",
   "execution_count": 7,
   "id": "54d37c2327dacee5",
   "metadata": {
    "collapsed": false,
    "ExecuteTime": {
     "end_time": "2023-10-29T15:39:28.330928800Z",
     "start_time": "2023-10-29T15:39:28.329358700Z"
    }
   },
   "outputs": [],
   "source": [
    "reviews.rename(columns={'Title':'book_title', 'review/summary':'summary','review/text':'text'}, inplace=True)"
   ]
  },
  {
   "cell_type": "code",
   "execution_count": null,
   "id": "17d420b5249daf82",
   "metadata": {
    "collapsed": false,
    "ExecuteTime": {
     "start_time": "2023-10-29T15:40:04.185925Z"
    }
   },
   "outputs": [],
   "source": [
    "reviews['word_tokens'] = reviews['text'].apply(lambda x: word_tokenize(str(x)))\n",
    "reviews['word_tokens_count'] = reviews['word_tokens'].apply(lambda x: len(x))"
   ]
  },
  {
   "cell_type": "code",
   "execution_count": null,
   "id": "c30bc6d6",
   "metadata": {},
   "outputs": [],
   "source": [
    "reviews['sentence_tokens'] = reviews['text'].apply(lambda x: sent_tokenize(str(x)))\n",
    "reviews['sentence_tokens_count'] = reviews['sentence_tokens'].apply(lambda x: len(x))"
   ]
  },
  {
   "cell_type": "code",
   "execution_count": null,
   "id": "f0e795f8",
   "metadata": {},
   "outputs": [],
   "source": [
    "reviews['average_token_length'] = reviews['word_tokens'].apply(lambda x: (sum(len(token) for token in x) / len(x)))\n",
    "reviews['rounded_average_token_length'] = reviews['average_token_length'].apply(lambda x: round(x))"
   ]
  },
  {
   "cell_type": "code",
   "execution_count": null,
   "id": "42fe7993",
   "metadata": {},
   "outputs": [],
   "source": [
    "reviews['average_sentence_length'] = reviews['word_tokens_count'] / reviews['sentence_tokens_count']\n",
    "reviews['rounded_average_sentence_length'] = reviews['average_sentence_length'].apply(lambda x: round(x))"
   ]
  },
  {
   "cell_type": "code",
   "execution_count": null,
   "id": "5709932d",
   "metadata": {},
   "outputs": [],
   "source": [
    "reviews['lexical_diversity'] = reviews['word_tokens'].apply(lambda x: len(set(x)) / len(x))"
   ]
  },
  {
   "cell_type": "code",
   "execution_count": null,
   "id": "f8417575",
   "metadata": {},
   "outputs": [],
   "source": [
    "stop_words = set(stopwords.words('english'))\n",
    "reviews['text_lower'] = reviews['text'].str.lower()\n",
    "reviews['text_lower_no_ponctuation'] = reviews['text_lower'].apply(lambda x: ''.join([char for char in str(x) if char not in string.punctuation]))"
   ]
  },
  {
   "cell_type": "code",
   "execution_count": null,
   "id": "039a80e4",
   "metadata": {},
   "outputs": [],
   "source": [
    "reviews['most_common_words'] = reviews['word_tokens'].apply(lambda tokens: [word for word in tokens if word not in stop_words])\n"
   ]
  },
  {
   "cell_type": "code",
   "execution_count": null,
   "id": "54dcd0fe",
   "metadata": {},
   "outputs": [],
   "source": [
    "# reviews.to_csv(\"reviews.csv\", index=False)"
   ]
  },
  {
   "cell_type": "code",
   "execution_count": 23,
   "id": "729461d0",
   "metadata": {},
   "outputs": [],
   "source": [
    "books_raw = pd.read_csv(\"books_data.csv\")"
   ]
  },
  {
   "cell_type": "code",
   "execution_count": 24,
   "id": "46744c51",
   "metadata": {},
   "outputs": [
    {
     "data": {
      "text/plain": [
       "Index(['Title', 'description', 'authors', 'image', 'previewLink', 'publisher',\n",
       "       'publishedDate', 'infoLink', 'categories', 'ratingsCount'],\n",
       "      dtype='object')"
      ]
     },
     "execution_count": 24,
     "metadata": {},
     "output_type": "execute_result"
    }
   ],
   "source": [
    "books_raw.keys()"
   ]
  },
  {
   "cell_type": "code",
   "execution_count": null,
   "id": "3cc6f4e3",
   "metadata": {},
   "outputs": [],
   "source": [
    "books = books_raw.drop([\"image\",\"previewLink\", \"infoLink\"], axis=1, inplace=False)"
   ]
  },
  {
   "cell_type": "code",
   "execution_count": null,
   "id": "35965649",
   "metadata": {},
   "outputs": [],
   "source": [
    "books.rename(columns={'Title':'book_title'}, inplace=True)"
   ]
  },
  {
   "cell_type": "code",
   "execution_count": null,
   "id": "b275fc36",
   "metadata": {},
   "outputs": [],
   "source": [
    "books.to_csv(\"books.csv\", index=False)"
   ]
  }
 ],
 "metadata": {
  "kernelspec": {
   "display_name": "Python 3",
   "language": "python",
   "name": "python3"
  },
  "language_info": {
   "codemirror_mode": {
    "name": "ipython",
    "version": 3
   },
   "file_extension": ".py",
   "mimetype": "text/x-python",
   "name": "python",
   "nbconvert_exporter": "python",
   "pygments_lexer": "ipython3",
   "version": "3.11.2"
  }
 },
 "nbformat": 4,
 "nbformat_minor": 5
}
