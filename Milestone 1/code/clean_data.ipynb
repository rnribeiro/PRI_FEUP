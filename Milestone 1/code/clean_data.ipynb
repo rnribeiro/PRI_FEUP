{
 "cells": [
  {
   "cell_type": "code",
   "execution_count": 8,
   "id": "d9e4028bba229d15",
   "metadata": {
    "ExecuteTime": {
     "start_time": "2023-10-06T21:15:34.746609800Z"
    },
    "collapsed": false,
    "is_executing": true
   },
   "outputs": [],
   "source": [
    "import pandas as pd\n",
    "import matplotlib.pyplot as plt\n",
    "import math as math\n",
    "import nltk\n",
    "nltk.download('punkt')\n",
    "nltk.download('stopwords')\n",
    "from nltk.tokenize import word_tokenize, sent_tokenize\n",
    "from nltk.probability import FreqDist\n",
    "from nltk.util import ngrams\n",
    "from nltk.corpus import stopwords\n",
    "import string\n",
    "import requests"
   ]
  },
  {
   "cell_type": "code",
   "execution_count": 9,
   "id": "initial_id",
   "metadata": {
    "ExecuteTime": {
     "end_time": "2023-10-06T14:38:11.513505800Z",
     "start_time": "2023-10-06T14:36:35.333645600Z"
    },
    "collapsed": true
   },
   "outputs": [],
   "source": [
    "reviews_raw = pd.read_csv(\"Books_rating.csv\")"
   ]
  },
  {
   "cell_type": "code",
   "execution_count": 10,
   "id": "ff71920d988bdf59",
   "metadata": {
    "ExecuteTime": {
     "end_time": "2023-10-06T14:38:11.614954500Z",
     "start_time": "2023-10-06T14:38:11.564650500Z"
    },
    "collapsed": false
   },
   "outputs": [
    {
     "data": {
      "text/plain": [
       "Index(['Id', 'Title', 'Price', 'User_id', 'profileName', 'review/helpfulness',\n",
       "       'review/score', 'review/time', 'review/summary', 'review/text'],\n",
       "      dtype='object')"
      ]
     },
     "execution_count": 10,
     "metadata": {},
     "output_type": "execute_result"
    }
   ],
   "source": [
    "reviews_raw.keys()"
   ]
  },
  {
   "cell_type": "code",
   "execution_count": 11,
   "id": "3b6467bf04787021",
   "metadata": {
    "ExecuteTime": {
     "end_time": "2023-10-06T14:38:13.729837400Z",
     "start_time": "2023-10-06T14:38:11.613832300Z"
    },
    "collapsed": false
   },
   "outputs": [],
   "source": [
    "reviews = reviews_raw.drop([\"Id\", \"Price\",\"User_id\", \"profileName\", \"review/helpfulness\", \"review/score\", \"review/time\"], axis=1, inplace=False)"
   ]
  },
  {
   "cell_type": "code",
   "execution_count": 12,
   "id": "54d37c2327dacee5",
   "metadata": {
    "ExecuteTime": {
     "end_time": "2023-10-06T14:38:13.800915500Z",
     "start_time": "2023-10-06T14:38:13.762754400Z"
    },
    "collapsed": false
   },
   "outputs": [],
   "source": [
    "reviews.rename(columns={'Title':'book_title', 'review/summary':'summary','review/text':'text'}, inplace=True)"
   ]
  },
  {
   "cell_type": "code",
   "execution_count": null,
   "id": "17d420b5249daf82",
   "metadata": {
    "ExecuteTime": {
     "start_time": "2023-10-06T20:53:23.316774600Z"
    },
    "collapsed": false,
    "is_executing": true
   },
   "outputs": [],
   "source": [
    "reviews['word_tokens'] = reviews['text'].apply(lambda x: word_tokenize(str(x)))\n",
    "reviews['word_tokens_count'] = reviews['word_tokens'].apply(lambda x: len(x))"
   ]
  },
  {
   "cell_type": "code",
   "execution_count": null,
   "id": "c30bc6d6",
   "metadata": {},
   "outputs": [],
   "source": [
    "reviews['sentence_tokens'] = reviews['text'].apply(lambda x: sent_tokenize(str(x)))\n",
    "reviews['sentence_tokens_count'] = reviews['sentence_tokens'].apply(lambda x: len(x))"
   ]
  },
  {
   "cell_type": "code",
   "execution_count": null,
   "id": "f0e795f8",
   "metadata": {},
   "outputs": [],
   "source": [
    "reviews['average_token_length'] = reviews['word_tokens'].apply(lambda x: (sum(len(token) for token in x) / len(x)))\n",
    "reviews['rounded_average_token_length'] = reviews['average_token_length'].apply(lambda x: round(x))"
   ]
  },
  {
   "cell_type": "code",
   "execution_count": null,
   "id": "42fe7993",
   "metadata": {},
   "outputs": [],
   "source": [
    "reviews['average_sentence_length'] = reviews['word_tokens_count'] / reviews['sentence_tokens_count']\n",
    "reviews['rounded_average_sentence_length'] = reviews['average_sentence_length'].apply(lambda x: round(x))"
   ]
  },
  {
   "cell_type": "code",
   "execution_count": null,
   "id": "5709932d",
   "metadata": {},
   "outputs": [],
   "source": [
    "reviews['lexical_diversity'] = reviews['word_tokens'].apply(lambda x: len(set(x)) / len(x))"
   ]
  },
  {
   "cell_type": "code",
   "execution_count": null,
   "id": "f8417575",
   "metadata": {},
   "outputs": [],
   "source": [
    "stop_words = set(stopwords.words('english'))\n",
    "reviews['text_lower'] = reviews['text'].str.lower()\n",
    "reviews['text_lower_no_ponctuation'] = reviews['text_lower'].apply(lambda x: ''.join([char for char in str(x) if char not in string.punctuation]))"
   ]
  },
  {
   "cell_type": "code",
   "execution_count": null,
   "id": "039a80e4",
   "metadata": {},
   "outputs": [],
   "source": [
    "reviews['most_common_words'] = reviews['word_tokens'].apply(lambda tokens: [word for word in tokens if word not in stop_words])\n"
   ]
  },
  {
   "cell_type": "code",
   "execution_count": null,
   "id": "54dcd0fe",
   "metadata": {},
   "outputs": [],
   "source": [
    "reviews.to_csv(\"reviews.csv\", index=False)"
   ]
  },
  {
   "cell_type": "code",
   "execution_count": 23,
   "id": "729461d0",
   "metadata": {},
   "outputs": [],
   "source": [
    "books_raw = pd.read_csv(\"books_data.csv\")"
   ]
  },
  {
   "cell_type": "code",
   "execution_count": 24,
   "id": "46744c51",
   "metadata": {},
   "outputs": [
    {
     "data": {
      "text/plain": [
       "Index(['Title', 'description', 'authors', 'image', 'previewLink', 'publisher',\n",
       "       'publishedDate', 'infoLink', 'categories', 'ratingsCount'],\n",
       "      dtype='object')"
      ]
     },
     "execution_count": 24,
     "metadata": {},
     "output_type": "execute_result"
    }
   ],
   "source": [
    "books_raw.keys()"
   ]
  },
  {
   "cell_type": "code",
   "execution_count": null,
   "id": "3cc6f4e3",
   "metadata": {},
   "outputs": [],
   "source": [
    "books = books_raw.drop([\"image\",\"previewLink\", \"infoLink\"], axis=1, inplace=False)"
   ]
  },
  {
   "cell_type": "code",
   "execution_count": null,
   "id": "35965649",
   "metadata": {},
   "outputs": [],
   "source": [
    "books.rename(columns={'Title':'book_title'}, inplace=True)"
   ]
  },
  {
   "cell_type": "code",
   "execution_count": null,
   "id": "b275fc36",
   "metadata": {},
   "outputs": [],
   "source": [
    "books.to_csv(\"books.csv\", index=False)"
   ]
  }
 ],
 "metadata": {
  "kernelspec": {
   "display_name": "Python 3",
   "language": "python",
   "name": "python3"
  },
  "language_info": {
   "codemirror_mode": {
    "name": "ipython",
    "version": 3
   },
   "file_extension": ".py",
   "mimetype": "text/x-python",
   "name": "python",
   "nbconvert_exporter": "python",
   "pygments_lexer": "ipython3",
   "version": "3.11.2"
  }
 },
 "nbformat": 4,
 "nbformat_minor": 5
}
