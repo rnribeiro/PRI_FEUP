{
 "cells": [
  {
   "cell_type": "code",
   "execution_count": 1,
   "id": "d9e4028bba229d15",
   "metadata": {
    "collapsed": false,
    "ExecuteTime": {
     "end_time": "2023-11-11T16:30:20.901251400Z",
     "start_time": "2023-11-11T16:30:18.819978200Z"
    }
   },
   "outputs": [
    {
     "name": "stderr",
     "output_type": "stream",
     "text": [
      "[nltk_data] Downloading package punkt to\n",
      "[nltk_data]     C:\\Users\\rnrib\\AppData\\Roaming\\nltk_data...\n",
      "[nltk_data]   Package punkt is already up-to-date!\n",
      "[nltk_data] Downloading package stopwords to\n",
      "[nltk_data]     C:\\Users\\rnrib\\AppData\\Roaming\\nltk_data...\n",
      "[nltk_data]   Package stopwords is already up-to-date!\n"
     ]
    }
   ],
   "source": [
    "import pandas as pd\n",
    "import matplotlib.pyplot as plt\n",
    "import math as math\n",
    "import nltk\n",
    "nltk.download('punkt')\n",
    "nltk.download('stopwords')\n",
    "from nltk.tokenize import word_tokenize, sent_tokenize\n",
    "from nltk.probability import FreqDist\n",
    "from nltk.util import ngrams\n",
    "from nltk.corpus import stopwords\n",
    "import string\n",
    "import requests"
   ]
  },
  {
   "cell_type": "code",
   "execution_count": 2,
   "id": "initial_id",
   "metadata": {
    "collapsed": true,
    "ExecuteTime": {
     "end_time": "2023-11-11T16:30:52.215133600Z",
     "start_time": "2023-11-11T16:30:22.349976Z"
    }
   },
   "outputs": [],
   "source": [
    "reviews_raw = pd.read_csv(\"../../../data/Books_rating.csv\")"
   ]
  },
  {
   "cell_type": "code",
   "execution_count": 3,
   "id": "ff71920d988bdf59",
   "metadata": {
    "collapsed": false,
    "ExecuteTime": {
     "end_time": "2023-11-11T16:30:55.030457600Z",
     "start_time": "2023-11-11T16:30:55.020278500Z"
    }
   },
   "outputs": [
    {
     "data": {
      "text/plain": "Index(['Id', 'Title', 'Price', 'User_id', 'profileName', 'review/helpfulness',\n       'review/score', 'review/time', 'review/summary', 'review/text'],\n      dtype='object')"
     },
     "execution_count": 3,
     "metadata": {},
     "output_type": "execute_result"
    }
   ],
   "source": [
    "reviews_raw.keys()"
   ]
  },
  {
   "cell_type": "code",
   "execution_count": 4,
   "id": "3b6467bf04787021",
   "metadata": {
    "collapsed": false,
    "ExecuteTime": {
     "end_time": "2023-11-11T16:30:57.301009100Z",
     "start_time": "2023-11-11T16:30:57.182334800Z"
    }
   },
   "outputs": [],
   "source": [
    "reviews = reviews_raw.drop([\"Id\", \"Price\",\"User_id\", \"profileName\", \"review/helpfulness\", \"review/score\", \"review/time\"], axis=1, inplace=False)"
   ]
  },
  {
   "cell_type": "code",
   "execution_count": 5,
   "id": "54d37c2327dacee5",
   "metadata": {
    "collapsed": false,
    "ExecuteTime": {
     "end_time": "2023-11-11T16:30:58.472099300Z",
     "start_time": "2023-11-11T16:30:58.469948900Z"
    }
   },
   "outputs": [],
   "source": [
    "reviews.rename(columns={'Title':'book_title', 'review/summary':'summary','review/text':'text'}, inplace=True)"
   ]
  },
  {
   "cell_type": "code",
   "execution_count": null,
   "id": "17d420b5249daf82",
   "metadata": {
    "collapsed": false,
    "is_executing": true,
    "ExecuteTime": {
     "start_time": "2023-11-11T16:31:03.095020200Z"
    }
   },
   "outputs": [],
   "source": [
    "reviews['word_tokens'] = reviews['text'].apply(lambda x: word_tokenize(str(x)))\n",
    "reviews['word_tokens_count'] = reviews['word_tokens'].apply(lambda x: len(x))"
   ]
  },
  {
   "cell_type": "code",
   "execution_count": null,
   "id": "c30bc6d6",
   "metadata": {},
   "outputs": [],
   "source": [
    "reviews['sentence_tokens'] = reviews['text'].apply(lambda x: sent_tokenize(str(x)))\n",
    "reviews['sentence_tokens_count'] = reviews['sentence_tokens'].apply(lambda x: len(x))"
   ]
  },
  {
   "cell_type": "code",
   "execution_count": null,
   "id": "f0e795f8",
   "metadata": {},
   "outputs": [],
   "source": [
    "reviews['average_token_length'] = reviews['word_tokens'].apply(lambda x: (sum(len(token) for token in x) / len(x)))\n",
    "reviews['rounded_average_token_length'] = reviews['average_token_length'].apply(lambda x: round(x))"
   ]
  },
  {
   "cell_type": "code",
   "execution_count": null,
   "id": "42fe7993",
   "metadata": {},
   "outputs": [],
   "source": [
    "reviews['average_sentence_length'] = reviews['word_tokens_count'] / reviews['sentence_tokens_count']\n",
    "reviews['rounded_average_sentence_length'] = reviews['average_sentence_length'].apply(lambda x: round(x))"
   ]
  },
  {
   "cell_type": "code",
   "execution_count": null,
   "id": "5709932d",
   "metadata": {},
   "outputs": [],
   "source": [
    "reviews['lexical_diversity'] = reviews['word_tokens'].apply(lambda x: len(set(x)) / len(x))"
   ]
  },
  {
   "cell_type": "code",
   "execution_count": null,
   "id": "f8417575",
   "metadata": {},
   "outputs": [],
   "source": [
    "stop_words = set(stopwords.words('english'))\n",
    "reviews['text_lower'] = reviews['text'].str.lower()\n",
    "reviews['text_lower_no_ponctuation'] = reviews['text_lower'].apply(lambda x: ''.join([char for char in str(x) if char not in string.punctuation]))"
   ]
  },
  {
   "cell_type": "code",
   "execution_count": null,
   "id": "039a80e4",
   "metadata": {},
   "outputs": [],
   "source": [
    "reviews['most_common_words'] = reviews['word_tokens'].apply(lambda tokens: [word for word in tokens if word not in stop_words])\n"
   ]
  },
  {
   "cell_type": "code",
   "execution_count": null,
   "id": "54dcd0fe",
   "metadata": {},
   "outputs": [],
   "source": [
    "# reviews.to_csv(\"reviews.csv\", index=False)"
   ]
  },
  {
   "cell_type": "code",
   "execution_count": 23,
   "id": "729461d0",
   "metadata": {},
   "outputs": [],
   "source": [
    "books_raw = pd.read_csv(\"../../../data/books_data.csv\")"
   ]
  },
  {
   "cell_type": "code",
   "execution_count": 24,
   "id": "46744c51",
   "metadata": {},
   "outputs": [
    {
     "data": {
      "text/plain": [
       "Index(['Title', 'description', 'authors', 'image', 'previewLink', 'publisher',\n",
       "       'publishedDate', 'infoLink', 'categories', 'ratingsCount'],\n",
       "      dtype='object')"
      ]
     },
     "execution_count": 24,
     "metadata": {},
     "output_type": "execute_result"
    }
   ],
   "source": [
    "books_raw.keys()"
   ]
  },
  {
   "cell_type": "code",
   "execution_count": null,
   "id": "3cc6f4e3",
   "metadata": {},
   "outputs": [],
   "source": [
    "books = books_raw.drop([\"image\",\"previewLink\", \"infoLink\"], axis=1, inplace=False)"
   ]
  },
  {
   "cell_type": "code",
   "execution_count": null,
   "id": "35965649",
   "metadata": {},
   "outputs": [],
   "source": [
    "books.rename(columns={'Title':'book_title'}, inplace=True)"
   ]
  },
  {
   "cell_type": "code",
   "execution_count": null,
   "id": "b275fc36",
   "metadata": {},
   "outputs": [],
   "source": [
    "books.to_csv(\"books.csv\", index=False)"
   ]
  }
 ],
 "metadata": {
  "kernelspec": {
   "display_name": "Python 3",
   "language": "python",
   "name": "python3"
  },
  "language_info": {
   "codemirror_mode": {
    "name": "ipython",
    "version": 3
   },
   "file_extension": ".py",
   "mimetype": "text/x-python",
   "name": "python",
   "nbconvert_exporter": "python",
   "pygments_lexer": "ipython3",
   "version": "3.11.2"
  }
 },
 "nbformat": 4,
 "nbformat_minor": 5
}
