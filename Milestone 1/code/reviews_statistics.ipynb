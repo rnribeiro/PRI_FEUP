{
 "cells": [
  {
   "cell_type": "code",
   "execution_count": 1,
   "metadata": {
    "ExecuteTime": {
     "end_time": "2023-10-06T09:43:31.456996500Z",
     "start_time": "2023-10-06T09:43:27.536083500Z"
    },
    "colab": {
     "base_uri": "https://localhost:8080/"
    },
    "id": "r8Mm2j3SPZkL",
    "outputId": "8058d848-32a2-4735-d03f-3032620325c3"
   },
   "outputs": [
    {
     "name": "stderr",
     "output_type": "stream",
     "text": [
      "[nltk_data] Downloading package punkt to\n",
      "[nltk_data]     C:\\Users\\rnrib\\AppData\\Roaming\\nltk_data...\n",
      "[nltk_data]   Package punkt is already up-to-date!\n",
      "[nltk_data] Downloading package stopwords to\n",
      "[nltk_data]     C:\\Users\\rnrib\\AppData\\Roaming\\nltk_data...\n",
      "[nltk_data]   Package stopwords is already up-to-date!\n"
     ]
    }
   ],
   "source": [
    "import pandas as pd\n",
    "import matplotlib.pyplot as plt\n",
    "import math as math\n",
    "import nltk\n",
    "nltk.download('punkt')\n",
    "nltk.download('stopwords')\n",
    "from nltk.tokenize import word_tokenize, sent_tokenize\n",
    "from nltk.probability import FreqDist\n",
    "from nltk.util import ngrams\n",
    "from nltk.corpus import stopwords\n",
    "import string\n",
    "import requests"
   ]
  },
  {
   "cell_type": "code",
   "execution_count": 2,
   "metadata": {
    "ExecuteTime": {
     "end_time": "2023-10-06T09:46:08.697206300Z",
     "start_time": "2023-10-06T09:45:22.980239Z"
    },
    "colab": {
     "base_uri": "https://localhost:8080/",
     "height": 597
    },
    "id": "oZatM-GKH0qc",
    "outputId": "3e928b45-2f75-4997-a176-2d5cb84e440d"
   },
   "outputs": [
    {
     "data": {
      "text/html": [
       "<div>\n",
       "<style scoped>\n",
       "    .dataframe tbody tr th:only-of-type {\n",
       "        vertical-align: middle;\n",
       "    }\n",
       "\n",
       "    .dataframe tbody tr th {\n",
       "        vertical-align: top;\n",
       "    }\n",
       "\n",
       "    .dataframe thead th {\n",
       "        text-align: right;\n",
       "    }\n",
       "</style>\n",
       "<table border=\"1\" class=\"dataframe\">\n",
       "  <thead>\n",
       "    <tr style=\"text-align: right;\">\n",
       "      <th></th>\n",
       "      <th>Id</th>\n",
       "      <th>title</th>\n",
       "      <th>summary</th>\n",
       "      <th>text</th>\n",
       "    </tr>\n",
       "  </thead>\n",
       "  <tbody>\n",
       "    <tr>\n",
       "      <th>0</th>\n",
       "      <td>1882931173</td>\n",
       "      <td>Its Only Art If Its Well Hung!</td>\n",
       "      <td>Nice collection of Julie Strain images</td>\n",
       "      <td>This is only for Julie Strain fans. It's a col...</td>\n",
       "    </tr>\n",
       "    <tr>\n",
       "      <th>1</th>\n",
       "      <td>0826414346</td>\n",
       "      <td>Dr. Seuss: American Icon</td>\n",
       "      <td>Really Enjoyed It</td>\n",
       "      <td>I don't care much for Dr. Seuss but after read...</td>\n",
       "    </tr>\n",
       "    <tr>\n",
       "      <th>2</th>\n",
       "      <td>0826414346</td>\n",
       "      <td>Dr. Seuss: American Icon</td>\n",
       "      <td>Essential for every personal and Public Library</td>\n",
       "      <td>If people become the books they read and if \"t...</td>\n",
       "    </tr>\n",
       "    <tr>\n",
       "      <th>3</th>\n",
       "      <td>0826414346</td>\n",
       "      <td>Dr. Seuss: American Icon</td>\n",
       "      <td>Phlip Nel gives silly Seuss a serious treatment</td>\n",
       "      <td>Theodore Seuss Geisel (1904-1991), aka &amp;quot;D...</td>\n",
       "    </tr>\n",
       "    <tr>\n",
       "      <th>4</th>\n",
       "      <td>0826414346</td>\n",
       "      <td>Dr. Seuss: American Icon</td>\n",
       "      <td>Good academic overview</td>\n",
       "      <td>Philip Nel - Dr. Seuss: American IconThis is b...</td>\n",
       "    </tr>\n",
       "    <tr>\n",
       "      <th>...</th>\n",
       "      <td>...</td>\n",
       "      <td>...</td>\n",
       "      <td>...</td>\n",
       "      <td>...</td>\n",
       "    </tr>\n",
       "    <tr>\n",
       "      <th>2999995</th>\n",
       "      <td>B000NSLVCU</td>\n",
       "      <td>The Idea of History</td>\n",
       "      <td>Difficult</td>\n",
       "      <td>This is an extremely difficult book to digest,...</td>\n",
       "    </tr>\n",
       "    <tr>\n",
       "      <th>2999996</th>\n",
       "      <td>B000NSLVCU</td>\n",
       "      <td>The Idea of History</td>\n",
       "      <td>Quite good and ahead of its time occasionally</td>\n",
       "      <td>This is pretty interesting. Collingwood seems ...</td>\n",
       "    </tr>\n",
       "    <tr>\n",
       "      <th>2999997</th>\n",
       "      <td>B000NSLVCU</td>\n",
       "      <td>The Idea of History</td>\n",
       "      <td>Easier reads of those not well versed in histo...</td>\n",
       "      <td>This is a good book but very esoteric. \"What i...</td>\n",
       "    </tr>\n",
       "    <tr>\n",
       "      <th>2999998</th>\n",
       "      <td>B000NSLVCU</td>\n",
       "      <td>The Idea of History</td>\n",
       "      <td>Yes, it is cheaper than the University Bookstore</td>\n",
       "      <td>My daughter, a freshman at Indiana University,...</td>\n",
       "    </tr>\n",
       "    <tr>\n",
       "      <th>2999999</th>\n",
       "      <td>B000NSLVCU</td>\n",
       "      <td>The Idea of History</td>\n",
       "      <td>Collingwood's ideas sink in a quagmire or verb...</td>\n",
       "      <td>The guy has a few good ideas but, reader, bewa...</td>\n",
       "    </tr>\n",
       "  </tbody>\n",
       "</table>\n",
       "<p>3000000 rows × 4 columns</p>\n",
       "</div>"
      ],
      "text/plain": [
       "                 Id                           title  \\\n",
       "0        1882931173  Its Only Art If Its Well Hung!   \n",
       "1        0826414346        Dr. Seuss: American Icon   \n",
       "2        0826414346        Dr. Seuss: American Icon   \n",
       "3        0826414346        Dr. Seuss: American Icon   \n",
       "4        0826414346        Dr. Seuss: American Icon   \n",
       "...             ...                             ...   \n",
       "2999995  B000NSLVCU             The Idea of History   \n",
       "2999996  B000NSLVCU             The Idea of History   \n",
       "2999997  B000NSLVCU             The Idea of History   \n",
       "2999998  B000NSLVCU             The Idea of History   \n",
       "2999999  B000NSLVCU             The Idea of History   \n",
       "\n",
       "                                                   summary  \\\n",
       "0                   Nice collection of Julie Strain images   \n",
       "1                                        Really Enjoyed It   \n",
       "2          Essential for every personal and Public Library   \n",
       "3          Phlip Nel gives silly Seuss a serious treatment   \n",
       "4                                   Good academic overview   \n",
       "...                                                    ...   \n",
       "2999995                                          Difficult   \n",
       "2999996      Quite good and ahead of its time occasionally   \n",
       "2999997  Easier reads of those not well versed in histo...   \n",
       "2999998   Yes, it is cheaper than the University Bookstore   \n",
       "2999999  Collingwood's ideas sink in a quagmire or verb...   \n",
       "\n",
       "                                                      text  \n",
       "0        This is only for Julie Strain fans. It's a col...  \n",
       "1        I don't care much for Dr. Seuss but after read...  \n",
       "2        If people become the books they read and if \"t...  \n",
       "3        Theodore Seuss Geisel (1904-1991), aka &quot;D...  \n",
       "4        Philip Nel - Dr. Seuss: American IconThis is b...  \n",
       "...                                                    ...  \n",
       "2999995  This is an extremely difficult book to digest,...  \n",
       "2999996  This is pretty interesting. Collingwood seems ...  \n",
       "2999997  This is a good book but very esoteric. \"What i...  \n",
       "2999998  My daughter, a freshman at Indiana University,...  \n",
       "2999999  The guy has a few good ideas but, reader, bewa...  \n",
       "\n",
       "[3000000 rows x 4 columns]"
      ]
     },
     "execution_count": 2,
     "metadata": {},
     "output_type": "execute_result"
    }
   ],
   "source": [
    "reviews = pd.read_csv(\"reviews.csv\")"
   ]
  },
  {
   "cell_type": "markdown",
   "metadata": {
    "id": "Y2_2Sr80EAgZ"
   },
   "source": [
    "Word Count Distribution in Reviews"
   ]
  },
  {
   "cell_type": "code",
   "execution_count": null,
   "metadata": {
    "colab": {
     "base_uri": "https://localhost:8080/",
     "height": 581
    },
    "id": "nRUqWOHzEHMk",
    "outputId": "e81f1425-f95e-47da-b81f-8b6a9078844f"
   },
   "outputs": [],
   "source": [
    "reviews.word_count.value_counts().sort_index().plot(kind='line',\n",
    "                                                    title='Word Count Distribution in Reviews',\n",
    "                                                    legend=False, figsize=(10, 6),\n",
    "                                                    xlabel='Word Count',\n",
    "                                                    ylabel='Frequency')"
   ]
  },
  {
   "cell_type": "markdown",
   "metadata": {
    "id": "CDF8dCGqEOt2"
   },
   "source": [
    "Word Count Interval Distribution in Reviews"
   ]
  },
  {
   "cell_type": "code",
   "execution_count": null,
   "metadata": {
    "colab": {
     "base_uri": "https://localhost:8080/",
     "height": 607
    },
    "id": "FtMxBMTrvTZt",
    "outputId": "625993e5-0bda-45fa-d8ef-52df63cdbd43"
   },
   "outputs": [],
   "source": [
    "max_word_count = math.ceil(reviews['word_count'].max() / 1000) * 1000\n",
    "word_count_intervals = [0, 100, 200, 300, 400, 500, 600, 700, 800, 900, 1000, 2000, max_word_count]\n",
    "word_count_distribution = pd.cut(reviews['word_count'], bins=word_count_intervals).value_counts().sort_index()\n",
    "plt.figure(figsize=(8, 6))\n",
    "bars = plt.bar(word_count_distribution.index.astype(str), word_count_distribution.values)\n",
    "plt.title('Word Count Interval Distribution in Reviews')\n",
    "plt.xlabel('Word Count Intervals')\n",
    "plt.ylabel('Frequency')\n",
    "plt.xticks(rotation=45)\n",
    "for bar in bars:\n",
    "    height = bar.get_height()\n",
    "    plt.annotate(f'{height}', xy=(bar.get_x() + bar.get_width() / 2, height), xytext=(0, 3),\n",
    "                textcoords=\"offset points\", ha='center', va='bottom')\n",
    "\n",
    "plt.tight_layout()\n",
    "plt.show()"
   ]
  },
  {
   "cell_type": "markdown",
   "metadata": {
    "id": "C48szt4pETgu"
   },
   "source": [
    "Word Count Interval Distribution in Reviews (Percentage)"
   ]
  },
  {
   "cell_type": "code",
   "execution_count": null,
   "metadata": {
    "colab": {
     "base_uri": "https://localhost:8080/",
     "height": 607
    },
    "id": "kjQdYPJgwTwF",
    "outputId": "5f1d8cc5-bdeb-4dbe-f028-b06efc217718"
   },
   "outputs": [],
   "source": [
    "word_count_distribution = pd.cut(reviews['word_count'], bins=word_count_intervals).value_counts(normalize=True).sort_index()\n",
    "\n",
    "# Create a bar chart to visualize the interval distribution in percentage\n",
    "plt.figure(figsize=(8, 6))\n",
    "bars = plt.bar(word_count_distribution.index.astype(str), word_count_distribution.values)\n",
    "plt.title('Word Count Interval Distribution in Reviews (Percentage)')\n",
    "plt.xlabel('Word Count Intervals')\n",
    "plt.ylabel('Percentage (%)')\n",
    "plt.xticks(rotation=45)\n",
    "# Annotate each bar with its exact percentage value\n",
    "for bar in bars:\n",
    "    height = bar.get_height()\n",
    "    plt.annotate(f'{100*height:2.2f}%', xy=(bar.get_x() + bar.get_width() / 2, height), xytext=(0, 3),\n",
    "                textcoords=\"offset points\", ha='center', va='bottom')\n",
    "\n",
    "plt.tight_layout()\n",
    "plt.show()\n"
   ]
  },
  {
   "cell_type": "markdown",
   "metadata": {
    "id": "eN9VEmd3Fa3Q"
   },
   "source": [
    "Average Word Length"
   ]
  },
  {
   "cell_type": "code",
   "execution_count": null,
   "metadata": {
    "colab": {
     "base_uri": "https://localhost:8080/",
     "height": 447
    },
    "id": "4fPpDaOrRNEE",
    "outputId": "41fbfb26-6a66-4a58-cfe9-6718e1444441"
   },
   "outputs": [],
   "source": [
    "reviews['average_word_length'].plot(kind='kde')\n",
    "plt.xlim(0, 20)"
   ]
  },
  {
   "cell_type": "markdown",
   "metadata": {
    "id": "lSdCwa5FFfMg"
   },
   "source": [
    "Average Word Length Distribution in Reviews"
   ]
  },
  {
   "cell_type": "code",
   "execution_count": null,
   "metadata": {
    "colab": {
     "base_uri": "https://localhost:8080/",
     "height": 581
    },
    "id": "i2A-75J4Fhm6",
    "outputId": "fc7aebe2-2569-4e9d-d44e-f1797acfea9e"
   },
   "outputs": [],
   "source": [
    "reviews.average_word_length.value_counts().sort_index().plot(kind='line', title='Average Word Length Distribution in Reviews', legend=False, figsize=(10, 6), rot=0, y='text', xlabel='Average Word Length', ylabel='Frequency', xlim=(0, 100))"
   ]
  },
  {
   "cell_type": "code",
   "execution_count": null,
   "metadata": {
    "colab": {
     "base_uri": "https://localhost:8080/",
     "height": 1000
    },
    "id": "H9jLn0mxFkc7",
    "outputId": "32147ac7-4aa6-403d-f09f-e943dab802be"
   },
   "outputs": [],
   "source": [
    "reviews.rounded_average_word_length.value_counts().sort_index().plot(kind='bar', title='Rounded Average Word Length Distribution in Reviews', legend=False, figsize=(10, 6), rot=0, y='text', xlabel='Rounded Average Word Length', ylabel='Frequency', xlim=(0, 50)).bar_label(container=plt.gca().containers[0])"
   ]
  },
  {
   "cell_type": "code",
   "execution_count": null,
   "metadata": {
    "colab": {
     "base_uri": "https://localhost:8080/",
     "height": 607
    },
    "id": "QAg0GXRf99-1",
    "outputId": "a0291762-9b5c-46ef-a17b-776c5303a5bc"
   },
   "outputs": [],
   "source": [
    "average_word_length_intervals = [0, 1, 2, 3, 4, 5, 6, 7, 8, 9, 10, 20, float('inf')]\n",
    "average_word_length_distribution = pd.cut(reviews['average_word_length'], bins=average_word_length_intervals).value_counts().sort_index()\n",
    "\n",
    "plt.figure(figsize=(8, 6))\n",
    "bars = plt.bar(average_word_length_distribution.index.astype(str), average_word_length_distribution.values)\n",
    "plt.title('Average Word Length Distribution in Reviews')\n",
    "plt.xlabel('Word Length Intervals')\n",
    "plt.ylabel('Frequency')\n",
    "plt.xticks(rotation=45)\n",
    "# Annotate each bar with its exact percentage value\n",
    "for bar in bars:\n",
    "    height = bar.get_height()\n",
    "    plt.annotate(f'{height}', xy=(bar.get_x() + bar.get_width() / 2, height), xytext=(0, 3),\n",
    "                 textcoords=\"offset points\", ha='center', va='bottom')\n",
    "\n",
    "plt.tight_layout()\n",
    "plt.show()"
   ]
  },
  {
   "cell_type": "code",
   "execution_count": null,
   "metadata": {
    "colab": {
     "base_uri": "https://localhost:8080/",
     "height": 607
    },
    "id": "EouMKNzOJr27",
    "outputId": "09f05dbc-610f-4297-8e6c-7198b8509968"
   },
   "outputs": [],
   "source": [
    "rounded_average_word_length_intervals = [0, 1, 2, 3, 4, 5, 6, 7, 8, 9, 10, 20, float('inf')]\n",
    "rounded_average_word_length_distribution = pd.cut(reviews['rounded_average_word_length'], bins=rounded_average_word_length_intervals).value_counts().sort_index()\n",
    "\n",
    "plt.figure(figsize=(8, 6))\n",
    "bars = plt.bar(rounded_average_word_length_distribution.index.astype(str), rounded_average_word_length_distribution.values)\n",
    "plt.title('Rounded Average Word Length Distribution in Reviews')\n",
    "plt.xlabel('Word Length Intervals')\n",
    "plt.ylabel('Frequency')\n",
    "plt.xticks(rotation=45)\n",
    "# Annotate each bar with its exact percentage value\n",
    "for bar in bars:\n",
    "    height = bar.get_height()\n",
    "    plt.annotate(f'{height}', xy=(bar.get_x() + bar.get_width() / 2, height), xytext=(0, 3),\n",
    "                 textcoords=\"offset points\", ha='center', va='bottom')\n",
    "\n",
    "plt.tight_layout()\n",
    "plt.show()"
   ]
  },
  {
   "cell_type": "markdown",
   "metadata": {
    "id": "gZZ1jh9BFqBP"
   },
   "source": [
    "Sentence Count"
   ]
  },
  {
   "cell_type": "code",
   "execution_count": null,
   "metadata": {
    "colab": {
     "base_uri": "https://localhost:8080/",
     "height": 489
    },
    "id": "V_jj7DxcLLmO",
    "outputId": "ae187532-c6f5-419e-f033-09e512fad274"
   },
   "outputs": [],
   "source": [
    "reviews.sentence_count.value_counts(normalize=True).sort_index().plot(title='Number of Sentences Distribution in Reviews', xlabel='Number of Sentences', ylabel='Frequency', xlim=(0,20))"
   ]
  },
  {
   "cell_type": "markdown",
   "metadata": {
    "id": "A5S6fH6rF7U7"
   },
   "source": [
    "Average Sentence Length"
   ]
  },
  {
   "cell_type": "code",
   "execution_count": null,
   "metadata": {
    "colab": {
     "base_uri": "https://localhost:8080/",
     "height": 507
    },
    "id": "IgpSEwQkNkRU",
    "outputId": "7036d028-7936-458b-a3c6-e210289f4a03"
   },
   "outputs": [],
   "source": [
    "reviews.average_sentence_length.value_counts(normalize=not True).sort_index().plot(title='Average Sentence Length Distribution in Reviews', xlabel='Average Sentence Length', ylabel='Frequency', xlim=(0,20))"
   ]
  },
  {
   "cell_type": "markdown",
   "metadata": {
    "id": "dt3ZaB5aN3XW"
   },
   "source": [
    "Average Sentence Length"
   ]
  },
  {
   "cell_type": "code",
   "execution_count": null,
   "metadata": {
    "colab": {
     "base_uri": "https://localhost:8080/",
     "height": 507
    },
    "id": "1JY7n0TpN3Xf",
    "outputId": "d8969381-c817-4295-9731-3b16254bd75c"
   },
   "outputs": [],
   "source": [
    "reviews.rounded_average_sentence_length.value_counts(normalize=True).sort_index().plot(\n",
    "    title='Rounded Average Sentence Length Distribution in Reviews',\n",
    "    xlabel='Rounded Average Sentence Length',\n",
    "    ylabel='Frequency',\n",
    "    xlim=(0,50))"
   ]
  },
  {
   "cell_type": "markdown",
   "metadata": {
    "id": "YrrtJji6F-Fb"
   },
   "source": [
    "Lexical Diversity"
   ]
  },
  {
   "cell_type": "code",
   "execution_count": null,
   "metadata": {
    "colab": {
     "base_uri": "https://localhost:8080/",
     "height": 564
    },
    "id": "Opkas0NtGBCp",
    "outputId": "0e7387bb-0fe1-4c57-ffa5-20215e1a54a2"
   },
   "outputs": [],
   "source": [
    "# Plot Lexical Diversity\n",
    "plt.figure(figsize=(10, 6))\n",
    "plt.hist(reviews['lexical_diversity'], bins=20, edgecolor='k')\n",
    "plt.title('Lexical Diversity in Reviews')\n",
    "plt.xlabel('Lexical Diversity')\n",
    "plt.ylabel('Frequency')\n",
    "plt.show()"
   ]
  },
  {
   "cell_type": "markdown",
   "metadata": {
    "id": "hwCjIOouGCSn"
   },
   "source": [
    "Most Common Words"
   ]
  },
  {
   "cell_type": "code",
   "execution_count": null,
   "metadata": {
    "id": "F8deoluYGHIg"
   },
   "outputs": [],
   "source": [
    "stop_words = set(stopwords.words('english'))"
   ]
  },
  {
   "cell_type": "code",
   "execution_count": null,
   "metadata": {
    "id": "yEfugRlfGL6N"
   },
   "outputs": [],
   "source": [
    "all_words = [word for sublist in reviews['most_common_words'].tolist() for word in sublist]"
   ]
  },
  {
   "cell_type": "code",
   "execution_count": null,
   "metadata": {
    "collapsed": false
   },
   "outputs": [],
   "source": [
    "fdist = FreqDist(all_words)"
   ]
  },
  {
   "cell_type": "code",
   "execution_count": null,
   "metadata": {
    "collapsed": false
   },
   "outputs": [],
   "source": [
    "common_words = fdist.most_common(10)\n",
    "\n",
    "# Plot Most Common Words\n",
    "plt.figure(figsize=(10, 6))\n",
    "fdist.plot(30, cumulative=False)\n",
    "plt.title('Word Frequency Distribution')\n",
    "plt.xlabel('Words')\n",
    "plt.ylabel('Frequency')\n",
    "plt.show()"
   ]
  },
  {
   "cell_type": "markdown",
   "metadata": {
    "id": "TQgZ9gOYGYp_"
   },
   "source": [
    "N-grams"
   ]
  },
  {
   "cell_type": "code",
   "execution_count": null,
   "metadata": {
    "collapsed": false
   },
   "outputs": [],
   "source": [
    "def get_ngrams(text, n):\n",
    "    tokens = word_tokenize(text)\n",
    "    n_grams = list(ngrams(tokens, n))\n",
    "    return n_grams\n",
    "\n",
    "n = 2  # Change 'n' to desired n-gram length\n",
    "reviews['n_grams'] = reviews['text'].apply(lambda x: get_ngrams(str(x), n))\n",
    "all_ngrams = [ngram for sublist in reviews['n_grams'].tolist() for ngram in sublist]\n",
    "fdist_ngrams = FreqDist(all_ngrams)\n",
    "common_ngrams = fdist_ngrams.most_common(10)"
   ]
  }
 ],
 "metadata": {
  "colab": {
   "provenance": []
  },
  "kernelspec": {
   "display_name": "Python 3 (ipykernel)",
   "language": "python",
   "name": "python3"
  },
  "language_info": {
   "codemirror_mode": {
    "name": "ipython",
    "version": 3
   },
   "file_extension": ".py",
   "mimetype": "text/x-python",
   "name": "python",
   "nbconvert_exporter": "python",
   "pygments_lexer": "ipython3",
   "version": "3.11.2"
  }
 },
 "nbformat": 4,
 "nbformat_minor": 4
}
