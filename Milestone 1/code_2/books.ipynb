{
 "cells": [
  {
   "cell_type": "code",
   "execution_count": 1,
   "outputs": [],
   "source": [
    "import pandas as pd"
   ],
   "metadata": {
    "collapsed": false,
    "ExecuteTime": {
     "end_time": "2023-11-06T18:34:09.438313700Z",
     "start_time": "2023-11-06T18:34:08.621862900Z"
    }
   },
   "id": "10a0a981912461f3"
  },
  {
   "cell_type": "code",
   "execution_count": 2,
   "id": "d1417eca5697f011",
   "metadata": {
    "collapsed": true,
    "ExecuteTime": {
     "end_time": "2023-11-06T18:34:11.416320500Z",
     "start_time": "2023-11-06T18:34:09.438313700Z"
    }
   },
   "outputs": [],
   "source": [
    "books_read = pd.read_csv(\"c:/ricardo/meic/pri/project/data/books_data.csv\")"
   ]
  },
  {
   "cell_type": "code",
   "execution_count": 3,
   "outputs": [],
   "source": [
    "books = books_read.copy()"
   ],
   "metadata": {
    "collapsed": false,
    "ExecuteTime": {
     "end_time": "2023-11-06T18:34:11.437143100Z",
     "start_time": "2023-11-06T18:34:11.432069200Z"
    }
   },
   "id": "f4f426163626279e"
  },
  {
   "cell_type": "code",
   "execution_count": 4,
   "outputs": [],
   "source": [
    "books = books.drop([\"image\", \"previewLink\", \"infoLink\", \"ratingsCount\"], axis=1, inplace=False)"
   ],
   "metadata": {
    "collapsed": false,
    "ExecuteTime": {
     "end_time": "2023-11-06T18:34:11.484910400Z",
     "start_time": "2023-11-06T18:34:11.440028600Z"
    }
   },
   "id": "4428bd4258121c0b"
  },
  {
   "cell_type": "code",
   "execution_count": 5,
   "outputs": [],
   "source": [
    "books.rename(columns={'Title': 'book_title'}, inplace=True)"
   ],
   "metadata": {
    "collapsed": false,
    "ExecuteTime": {
     "end_time": "2023-11-06T18:34:11.495349600Z",
     "start_time": "2023-11-06T18:34:11.480006100Z"
    }
   },
   "id": "86b4467d37ca72ae"
  },
  {
   "cell_type": "code",
   "execution_count": 6,
   "outputs": [],
   "source": [
    "books['publishedYear'] = books['publishedDate'].apply(lambda x: str(x)[:4])"
   ],
   "metadata": {
    "collapsed": false,
    "ExecuteTime": {
     "end_time": "2023-11-06T18:34:11.537655300Z",
     "start_time": "2023-11-06T18:34:11.487726600Z"
    }
   },
   "id": "e06163f73cf5d91e"
  },
  {
   "cell_type": "code",
   "execution_count": 7,
   "outputs": [],
   "source": [
    "# drop publishedDate column\n",
    "books = books.drop([\"publishedDate\"], axis=1, inplace=False)"
   ],
   "metadata": {
    "collapsed": false,
    "ExecuteTime": {
     "end_time": "2023-11-06T18:34:11.566168300Z",
     "start_time": "2023-11-06T18:34:11.537655300Z"
    }
   },
   "id": "6ee2deed36a40399"
  },
  {
   "cell_type": "code",
   "execution_count": 8,
   "outputs": [],
   "source": [
    "books[\"authors\"] = books[\"authors\"].str[2:-2]"
   ],
   "metadata": {
    "collapsed": false,
    "ExecuteTime": {
     "end_time": "2023-11-06T18:34:11.623209700Z",
     "start_time": "2023-11-06T18:34:11.615229800Z"
    }
   },
   "id": "1ad0e50b5761d5fb"
  },
  {
   "cell_type": "code",
   "execution_count": 9,
   "outputs": [],
   "source": [
    "books[\"authors\"] = books[\"authors\"].str.replace('\"', \"\")"
   ],
   "metadata": {
    "collapsed": false,
    "ExecuteTime": {
     "end_time": "2023-11-06T18:34:11.673062500Z",
     "start_time": "2023-11-06T18:34:11.623209700Z"
    }
   },
   "id": "51d5bd8c1c35f5f"
  },
  {
   "cell_type": "code",
   "execution_count": 10,
   "outputs": [],
   "source": [
    "books[\"authors\"] = books[\"authors\"].str.replace(\"', '\", \", \")"
   ],
   "metadata": {
    "collapsed": false,
    "ExecuteTime": {
     "end_time": "2023-11-06T18:34:11.732817300Z",
     "start_time": "2023-11-06T18:34:11.673062500Z"
    }
   },
   "id": "7b5eeb4bd6da8bdb"
  },
  {
   "cell_type": "code",
   "execution_count": 11,
   "outputs": [],
   "source": [
    "books[\"categories\"] = books[\"categories\"].str[2:-2]"
   ],
   "metadata": {
    "collapsed": false,
    "ExecuteTime": {
     "end_time": "2023-11-06T18:34:11.782014700Z",
     "start_time": "2023-11-06T18:34:11.732817300Z"
    }
   },
   "id": "de6713a8079e9a06"
  },
  {
   "cell_type": "code",
   "execution_count": 12,
   "outputs": [],
   "source": [
    "books.fillna(\"\", inplace=True)"
   ],
   "metadata": {
    "collapsed": false,
    "ExecuteTime": {
     "end_time": "2023-11-06T18:34:11.864207100Z",
     "start_time": "2023-11-06T18:34:11.782014700Z"
    }
   },
   "id": "b9645801c137da95"
  },
  {
   "cell_type": "code",
   "execution_count": 13,
   "outputs": [],
   "source": [
    "books.to_csv(\"c:/ricardo/meic/pri/project/data/clean_books.csv\", index=False)"
   ],
   "metadata": {
    "collapsed": false,
    "ExecuteTime": {
     "end_time": "2023-11-06T18:34:13.442177900Z",
     "start_time": "2023-11-06T18:34:11.864207100Z"
    }
   },
   "id": "350f8417d9964216"
  }
 ],
 "metadata": {
  "kernelspec": {
   "display_name": "Python 3",
   "language": "python",
   "name": "python3"
  },
  "language_info": {
   "codemirror_mode": {
    "name": "ipython",
    "version": 2
   },
   "file_extension": ".py",
   "mimetype": "text/x-python",
   "name": "python",
   "nbconvert_exporter": "python",
   "pygments_lexer": "ipython2",
   "version": "2.7.6"
  }
 },
 "nbformat": 4,
 "nbformat_minor": 5
}
