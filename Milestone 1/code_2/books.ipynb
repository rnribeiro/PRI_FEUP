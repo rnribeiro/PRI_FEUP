{
 "cells": [
  {
   "cell_type": "code",
   "execution_count": 37,
   "outputs": [],
   "source": [
    "import pandas as pd"
   ],
   "metadata": {
    "collapsed": false,
    "ExecuteTime": {
     "end_time": "2023-10-19T23:04:55.663357800Z",
     "start_time": "2023-10-19T23:04:55.545143600Z"
    }
   },
   "id": "10a0a981912461f3"
  },
  {
   "cell_type": "code",
   "execution_count": 38,
   "id": "d1417eca5697f011",
   "metadata": {
    "collapsed": true,
    "ExecuteTime": {
     "end_time": "2023-10-19T23:04:59.886291Z",
     "start_time": "2023-10-19T23:04:55.556360100Z"
    }
   },
   "outputs": [],
   "source": [
    "books_read = pd.read_csv(\"c:/ricardo/meic/pri/data/books_data.csv\")"
   ]
  },
  {
   "cell_type": "code",
   "execution_count": 39,
   "outputs": [],
   "source": [
    "books = books_read.copy()"
   ],
   "metadata": {
    "collapsed": false,
    "ExecuteTime": {
     "end_time": "2023-10-19T23:04:59.965959500Z",
     "start_time": "2023-10-19T23:04:59.888291500Z"
    }
   },
   "id": "f4f426163626279e"
  },
  {
   "cell_type": "code",
   "execution_count": 40,
   "outputs": [],
   "source": [
    "books = books.drop([\"image\", \"previewLink\", \"infoLink\", \"ratingsCount\"], axis=1, inplace=False)"
   ],
   "metadata": {
    "collapsed": false,
    "ExecuteTime": {
     "end_time": "2023-10-19T23:05:00.049383100Z",
     "start_time": "2023-10-19T23:04:59.969959500Z"
    }
   },
   "id": "4428bd4258121c0b"
  },
  {
   "cell_type": "code",
   "execution_count": 41,
   "outputs": [],
   "source": [
    "books.rename(columns={'Title': 'book_title'}, inplace=True)"
   ],
   "metadata": {
    "collapsed": false,
    "ExecuteTime": {
     "end_time": "2023-10-19T23:05:00.074381300Z",
     "start_time": "2023-10-19T23:05:00.044843600Z"
    }
   },
   "id": "86b4467d37ca72ae"
  },
  {
   "cell_type": "code",
   "execution_count": 42,
   "outputs": [],
   "source": [
    "books['publishedYear'] = books['publishedDate'].apply(lambda x: str(x)[:4])"
   ],
   "metadata": {
    "collapsed": false,
    "ExecuteTime": {
     "end_time": "2023-10-19T23:05:00.160431800Z",
     "start_time": "2023-10-19T23:05:00.056386800Z"
    }
   },
   "id": "e06163f73cf5d91e"
  },
  {
   "cell_type": "code",
   "execution_count": 43,
   "outputs": [],
   "source": [
    "# drop publishedDate column\n",
    "books = books.drop([\"publishedDate\"], axis=1, inplace=False)"
   ],
   "metadata": {
    "collapsed": false,
    "ExecuteTime": {
     "end_time": "2023-10-19T23:05:00.210175700Z",
     "start_time": "2023-10-19T23:05:00.164437200Z"
    }
   },
   "id": "6ee2deed36a40399"
  },
  {
   "cell_type": "code",
   "execution_count": 44,
   "outputs": [],
   "source": [
    "books[\"authors\"] = books[\"authors\"].str[2:-2]"
   ],
   "metadata": {
    "collapsed": false,
    "ExecuteTime": {
     "end_time": "2023-10-19T23:05:00.313463600Z",
     "start_time": "2023-10-19T23:05:00.215177400Z"
    }
   },
   "id": "1ad0e50b5761d5fb"
  },
  {
   "cell_type": "code",
   "execution_count": 45,
   "outputs": [],
   "source": [
    "books[\"authors\"] = books[\"authors\"].str.replace('\"', \"\")"
   ],
   "metadata": {
    "collapsed": false,
    "ExecuteTime": {
     "end_time": "2023-10-19T23:05:00.414792900Z",
     "start_time": "2023-10-19T23:05:00.306457600Z"
    }
   },
   "id": "51d5bd8c1c35f5f"
  },
  {
   "cell_type": "code",
   "execution_count": 46,
   "outputs": [],
   "source": [
    "books[\"authors\"] = books[\"authors\"].str.replace(\"', '\", \", \")"
   ],
   "metadata": {
    "collapsed": false,
    "ExecuteTime": {
     "end_time": "2023-10-19T23:05:00.517769900Z",
     "start_time": "2023-10-19T23:05:00.419798700Z"
    }
   },
   "id": "7b5eeb4bd6da8bdb"
  },
  {
   "cell_type": "code",
   "execution_count": 47,
   "outputs": [],
   "source": [
    "books[\"categories\"] = books[\"categories\"].str[2:-2]"
   ],
   "metadata": {
    "collapsed": false,
    "ExecuteTime": {
     "end_time": "2023-10-19T23:05:00.962766600Z",
     "start_time": "2023-10-19T23:05:00.519767400Z"
    }
   },
   "id": "de6713a8079e9a06"
  },
  {
   "cell_type": "code",
   "execution_count": 48,
   "outputs": [],
   "source": [
    "books.fillna(\"\", inplace=True)"
   ],
   "metadata": {
    "collapsed": false,
    "ExecuteTime": {
     "end_time": "2023-10-19T23:05:01.452502200Z",
     "start_time": "2023-10-19T23:05:00.967765300Z"
    }
   },
   "id": "b9645801c137da95"
  },
  {
   "cell_type": "code",
   "execution_count": 49,
   "outputs": [],
   "source": [
    "books.to_csv(\"clean_books.csv\", index=False)"
   ],
   "metadata": {
    "collapsed": false,
    "ExecuteTime": {
     "end_time": "2023-10-19T23:05:05.919803900Z",
     "start_time": "2023-10-19T23:05:01.455502Z"
    }
   },
   "id": "350f8417d9964216"
  }
 ],
 "metadata": {
  "kernelspec": {
   "display_name": "Python 3",
   "language": "python",
   "name": "python3"
  },
  "language_info": {
   "codemirror_mode": {
    "name": "ipython",
    "version": 2
   },
   "file_extension": ".py",
   "mimetype": "text/x-python",
   "name": "python",
   "nbconvert_exporter": "python",
   "pygments_lexer": "ipython2",
   "version": "2.7.6"
  }
 },
 "nbformat": 4,
 "nbformat_minor": 5
}
