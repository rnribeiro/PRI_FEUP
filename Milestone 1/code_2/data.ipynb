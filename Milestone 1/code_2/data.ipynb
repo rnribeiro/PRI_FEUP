{
 "cells": [
  {
   "cell_type": "code",
   "execution_count": 2,
   "outputs": [],
   "source": [
    "import pandas as pd"
   ],
   "metadata": {
    "collapsed": false,
    "ExecuteTime": {
     "end_time": "2023-10-19T23:05:42.148571Z",
     "start_time": "2023-10-19T23:05:41.063312400Z"
    }
   },
   "id": "b6a703587b0d59b7"
  },
  {
   "cell_type": "code",
   "execution_count": 3,
   "outputs": [],
   "source": [
    "books = pd.read_csv(\"clean_books.csv\")"
   ],
   "metadata": {
    "collapsed": false,
    "ExecuteTime": {
     "end_time": "2023-10-19T23:05:44.446672900Z",
     "start_time": "2023-10-19T23:05:42.153576900Z"
    }
   },
   "id": "25795762b7b3d177"
  },
  {
   "cell_type": "code",
   "execution_count": 4,
   "outputs": [],
   "source": [
    "reviews = pd.read_csv(\"clean_reviews.csv\")"
   ],
   "metadata": {
    "collapsed": false,
    "ExecuteTime": {
     "end_time": "2023-10-19T23:06:47.910475700Z",
     "start_time": "2023-10-19T23:05:44.451676100Z"
    }
   },
   "id": "20c54c4b13a99669"
  },
  {
   "cell_type": "code",
   "execution_count": 5,
   "outputs": [],
   "source": [
    "result = books.merge(reviews, on='book_title', how='left')"
   ],
   "metadata": {
    "collapsed": false,
    "ExecuteTime": {
     "end_time": "2023-10-19T23:06:58.797300900Z",
     "start_time": "2023-10-19T23:06:48.015463Z"
    }
   },
   "id": "87e2f49a13b1a66b"
  },
  {
   "cell_type": "code",
   "execution_count": 6,
   "outputs": [],
   "source": [
    "result.to_json(\"c:/ricardo/meic/pri/data/books_data_reviews.json\", orient='records', indent=4)"
   ],
   "metadata": {
    "collapsed": false,
    "ExecuteTime": {
     "end_time": "2023-10-19T23:10:20.164851700Z",
     "start_time": "2023-10-19T23:06:59.262298Z"
    }
   },
   "id": "8024ecc5eaeab54e"
  }
 ],
 "metadata": {
  "kernelspec": {
   "display_name": "Python 3",
   "language": "python",
   "name": "python3"
  },
  "language_info": {
   "codemirror_mode": {
    "name": "ipython",
    "version": 2
   },
   "file_extension": ".py",
   "mimetype": "text/x-python",
   "name": "python",
   "nbconvert_exporter": "python",
   "pygments_lexer": "ipython2",
   "version": "2.7.6"
  }
 },
 "nbformat": 4,
 "nbformat_minor": 5
}
