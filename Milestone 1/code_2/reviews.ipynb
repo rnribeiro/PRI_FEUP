{
 "cells": [
  {
   "cell_type": "code",
   "execution_count": 1,
   "id": "935f44a5a1b5a556",
   "metadata": {
    "collapsed": true,
    "ExecuteTime": {
     "end_time": "2023-10-19T22:45:49.504319900Z",
     "start_time": "2023-10-19T22:45:47.226351900Z"
    }
   },
   "outputs": [],
   "source": [
    "import pandas as pd"
   ]
  },
  {
   "cell_type": "code",
   "execution_count": 2,
   "outputs": [],
   "source": [
    "reviews_read = pd.read_csv(\"c:/ricardo/meic/pri/data/Books_rating.csv\")"
   ],
   "metadata": {
    "collapsed": false,
    "ExecuteTime": {
     "end_time": "2023-10-19T22:46:46.439935400Z",
     "start_time": "2023-10-19T22:45:49.492320500Z"
    }
   },
   "id": "ab65946a4c35ec49"
  },
  {
   "cell_type": "code",
   "execution_count": 3,
   "outputs": [],
   "source": [
    "reviews = reviews_read.copy()"
   ],
   "metadata": {
    "collapsed": false,
    "ExecuteTime": {
     "end_time": "2023-10-19T22:46:47.139935900Z",
     "start_time": "2023-10-19T22:46:46.445984800Z"
    }
   },
   "id": "30d689c70b94e1e8"
  },
  {
   "cell_type": "code",
   "execution_count": 4,
   "outputs": [
    {
     "data": {
      "text/plain": "Index(['Id', 'Title', 'Price', 'User_id', 'profileName', 'review/helpfulness',\n       'review/score', 'review/time', 'review/summary', 'review/text'],\n      dtype='object')"
     },
     "execution_count": 4,
     "metadata": {},
     "output_type": "execute_result"
    }
   ],
   "source": [
    "reviews.keys()"
   ],
   "metadata": {
    "collapsed": false,
    "ExecuteTime": {
     "end_time": "2023-10-19T22:46:47.295998400Z",
     "start_time": "2023-10-19T22:46:47.146935500Z"
    }
   },
   "id": "2ac3dedc447de256"
  },
  {
   "cell_type": "code",
   "execution_count": 5,
   "outputs": [],
   "source": [
    "reviews = reviews.drop([\"Id\", \"Price\", \"User_id\", \"profileName\", \"review/helpfulness\", \"review/score\", \"review/time\"], axis=1, inplace=False)"
   ],
   "metadata": {
    "collapsed": false,
    "ExecuteTime": {
     "end_time": "2023-10-19T22:46:47.806230200Z",
     "start_time": "2023-10-19T22:46:47.172997700Z"
    }
   },
   "id": "faaf09a2c3345c23"
  },
  {
   "cell_type": "code",
   "execution_count": 6,
   "outputs": [],
   "source": [
    "reviews.rename(columns={'Title': 'book_title', 'review/summary': 'summary', 'review/text': 'text'}, inplace=True)"
   ],
   "metadata": {
    "collapsed": false,
    "ExecuteTime": {
     "end_time": "2023-10-19T22:46:47.825757500Z",
     "start_time": "2023-10-19T22:46:47.811229600Z"
    }
   },
   "id": "d07e9f5be41ca9ec"
  },
  {
   "cell_type": "code",
   "execution_count": 9,
   "outputs": [],
   "source": [
    "reviews.fillna(\"\", inplace=True)"
   ],
   "metadata": {
    "collapsed": false,
    "ExecuteTime": {
     "end_time": "2023-10-19T22:49:46.594451Z",
     "start_time": "2023-10-19T22:49:45.062715200Z"
    }
   },
   "id": "initial_id"
  },
  {
   "cell_type": "code",
   "execution_count": 11,
   "outputs": [],
   "source": [
    "reviews.to_csv(\"clean_reviews.csv\", index=False)"
   ],
   "metadata": {
    "collapsed": false,
    "ExecuteTime": {
     "end_time": "2023-10-19T22:55:46.476876600Z",
     "start_time": "2023-10-19T22:52:41.902174Z"
    }
   },
   "id": "7cdac16c42768943"
  },
  {
   "cell_type": "code",
   "execution_count": null,
   "outputs": [],
   "source": [],
   "metadata": {
    "collapsed": false
   },
   "id": "d485769b13ee8e18"
  }
 ],
 "metadata": {
  "kernelspec": {
   "display_name": "Python 3",
   "language": "python",
   "name": "python3"
  },
  "language_info": {
   "codemirror_mode": {
    "name": "ipython",
    "version": 2
   },
   "file_extension": ".py",
   "mimetype": "text/x-python",
   "name": "python",
   "nbconvert_exporter": "python",
   "pygments_lexer": "ipython2",
   "version": "2.7.6"
  }
 },
 "nbformat": 4,
 "nbformat_minor": 5
}
