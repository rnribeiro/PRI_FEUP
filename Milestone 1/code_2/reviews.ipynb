{
 "cells": [
  {
   "cell_type": "code",
   "execution_count": null,
   "id": "935f44a5a1b5a556",
   "metadata": {
    "collapsed": true
   },
   "outputs": [],
   "source": [
    "import pandas as pd"
   ]
  },
  {
   "cell_type": "code",
   "execution_count": null,
   "outputs": [],
   "source": [
    "reviews_read = pd.read_csv(\"c:/ricardo/meic/pri/data/Books_rating.csv\")"
   ],
   "metadata": {
    "collapsed": false
   },
   "id": "ab65946a4c35ec49"
  },
  {
   "cell_type": "code",
   "execution_count": null,
   "outputs": [],
   "source": [
    "reviews = reviews_read.copy()"
   ],
   "metadata": {
    "collapsed": false
   },
   "id": "30d689c70b94e1e8"
  },
  {
   "cell_type": "code",
   "execution_count": null,
   "outputs": [],
   "source": [
    "reviews.keys()"
   ],
   "metadata": {
    "collapsed": false
   },
   "id": "2ac3dedc447de256"
  },
  {
   "cell_type": "code",
   "execution_count": null,
   "outputs": [],
   "source": [
    "reviews = reviews.drop([\"Id\", \"Price\", \"User_id\", \"profileName\", \"review/helpfulness\", \"review/score\", \"review/time\"], axis=1, inplace=False)"
   ],
   "metadata": {
    "collapsed": false
   },
   "id": "faaf09a2c3345c23"
  },
  {
   "cell_type": "code",
   "execution_count": null,
   "outputs": [],
   "source": [
    "reviews.rename(columns={'Title': 'book_title', 'review/summary': 'summary', 'review/text': 'text'}, inplace=True)"
   ],
   "metadata": {
    "collapsed": false
   },
   "id": "d07e9f5be41ca9ec"
  },
  {
   "cell_type": "code",
   "execution_count": null,
   "outputs": [],
   "source": [
    "reviews.fillna(\"\", inplace=True)"
   ],
   "metadata": {
    "collapsed": false
   },
   "id": "initial_id"
  },
  {
   "cell_type": "code",
   "execution_count": null,
   "outputs": [],
   "source": [
    "reviews.to_csv(\"clean_reviews.csv\", index=False)"
   ],
   "metadata": {
    "collapsed": false
   },
   "id": "7cdac16c42768943"
  },
  {
   "cell_type": "code",
   "execution_count": null,
   "outputs": [],
   "source": [
    "reviews.head(10)"
   ],
   "metadata": {
    "collapsed": false
   },
   "id": "d485769b13ee8e18"
  }
 ],
 "metadata": {
  "kernelspec": {
   "display_name": "Python 3",
   "language": "python",
   "name": "python3"
  },
  "language_info": {
   "codemirror_mode": {
    "name": "ipython",
    "version": 2
   },
   "file_extension": ".py",
   "mimetype": "text/x-python",
   "name": "python",
   "nbconvert_exporter": "python",
   "pygments_lexer": "ipython2",
   "version": "2.7.6"
  }
 },
 "nbformat": 4,
 "nbformat_minor": 5
}
