{
 "cells": [
  {
   "cell_type": "code",
   "execution_count": 24,
   "outputs": [],
   "source": [
    "import pandas as pd"
   ],
   "metadata": {
    "collapsed": false,
    "ExecuteTime": {
     "end_time": "2023-11-06T23:34:17.385095900Z",
     "start_time": "2023-11-06T23:34:17.367063Z"
    }
   },
   "id": "10a0a981912461f3"
  },
  {
   "cell_type": "code",
   "execution_count": 25,
   "id": "d1417eca5697f011",
   "metadata": {
    "collapsed": true,
    "ExecuteTime": {
     "end_time": "2023-11-06T23:34:19.038843Z",
     "start_time": "2023-11-06T23:34:17.370572700Z"
    }
   },
   "outputs": [],
   "source": [
    "books_read = pd.read_csv(\"c:/ricardo/meic/pri/project/data/books_data.csv\")"
   ]
  },
  {
   "cell_type": "code",
   "execution_count": 26,
   "outputs": [],
   "source": [
    "books = books_read.copy()"
   ],
   "metadata": {
    "collapsed": false,
    "ExecuteTime": {
     "end_time": "2023-11-06T23:34:19.098524400Z",
     "start_time": "2023-11-06T23:34:19.040499300Z"
    }
   },
   "id": "f4f426163626279e"
  },
  {
   "cell_type": "code",
   "execution_count": 27,
   "outputs": [],
   "source": [
    "books = books.drop([\"image\", \"previewLink\", \"infoLink\", \"ratingsCount\"], axis=1, inplace=False)"
   ],
   "metadata": {
    "collapsed": false,
    "ExecuteTime": {
     "end_time": "2023-11-06T23:34:19.127693100Z",
     "start_time": "2023-11-06T23:34:19.100107800Z"
    }
   },
   "id": "4428bd4258121c0b"
  },
  {
   "cell_type": "code",
   "execution_count": 28,
   "outputs": [],
   "source": [
    "books.rename(columns={'Title': 'book_title'}, inplace=True)"
   ],
   "metadata": {
    "collapsed": false,
    "ExecuteTime": {
     "end_time": "2023-11-06T23:34:19.136947600Z",
     "start_time": "2023-11-06T23:34:19.128689800Z"
    }
   },
   "id": "86b4467d37ca72ae"
  },
  {
   "cell_type": "code",
   "execution_count": 29,
   "outputs": [],
   "source": [
    "# fill publishedDate with 0\n",
    "books[\"publishedDate\"].fillna(0, inplace=True)"
   ],
   "metadata": {
    "collapsed": false,
    "ExecuteTime": {
     "end_time": "2023-11-06T23:34:19.146577300Z",
     "start_time": "2023-11-06T23:34:19.133946100Z"
    }
   },
   "id": "cb8c4a70b7e7e68c"
  },
  {
   "cell_type": "code",
   "execution_count": 30,
   "outputs": [],
   "source": [
    "# extract year from publishedDate if it is 4 digits\n",
    "books[\"publishedDate\"] = books[\"publishedDate\"].astype(str)\n",
    "\n",
    "books[\"publishedYear\"] = books[\"publishedDate\"].str.extract(r\"(\\d{4})\")\n",
    "books['publishedYear'] = books['publishedYear'].fillna(0)\n",
    "books[\"publishedYear\"] = books[\"publishedYear\"].astype(int)\n",
    "\n",
    "\n"
   ],
   "metadata": {
    "collapsed": false,
    "ExecuteTime": {
     "end_time": "2023-11-06T23:34:19.512357Z",
     "start_time": "2023-11-06T23:34:19.146577300Z"
    }
   },
   "id": "e06163f73cf5d91e"
  },
  {
   "cell_type": "code",
   "execution_count": 31,
   "outputs": [],
   "source": [
    "# drop publishedDate column\n",
    "books = books.drop([\"publishedDate\"], axis=1, inplace=False)"
   ],
   "metadata": {
    "collapsed": false,
    "ExecuteTime": {
     "end_time": "2023-11-06T23:34:19.534778800Z",
     "start_time": "2023-11-06T23:34:19.514653100Z"
    }
   },
   "id": "6ee2deed36a40399"
  },
  {
   "cell_type": "code",
   "execution_count": 32,
   "outputs": [],
   "source": [
    "books[\"authors\"] = books[\"authors\"].str[2:-2]"
   ],
   "metadata": {
    "collapsed": false,
    "ExecuteTime": {
     "end_time": "2023-11-06T23:34:19.575745600Z",
     "start_time": "2023-11-06T23:34:19.536089600Z"
    }
   },
   "id": "1ad0e50b5761d5fb"
  },
  {
   "cell_type": "code",
   "execution_count": 33,
   "outputs": [],
   "source": [
    "books[\"authors\"] = books[\"authors\"].str.replace('\"', \"\")"
   ],
   "metadata": {
    "collapsed": false,
    "ExecuteTime": {
     "end_time": "2023-11-06T23:34:19.615165800Z",
     "start_time": "2023-11-06T23:34:19.576744100Z"
    }
   },
   "id": "51d5bd8c1c35f5f"
  },
  {
   "cell_type": "code",
   "execution_count": 34,
   "outputs": [],
   "source": [
    "books[\"authors\"] = books[\"authors\"].str.replace(\"', '\", \", \")"
   ],
   "metadata": {
    "collapsed": false,
    "ExecuteTime": {
     "end_time": "2023-11-06T23:34:19.663695300Z",
     "start_time": "2023-11-06T23:34:19.615165800Z"
    }
   },
   "id": "7b5eeb4bd6da8bdb"
  },
  {
   "cell_type": "code",
   "execution_count": 35,
   "outputs": [],
   "source": [
    "books[\"categories\"] = books[\"categories\"].str[2:-2]"
   ],
   "metadata": {
    "collapsed": false,
    "ExecuteTime": {
     "end_time": "2023-11-06T23:34:19.693440200Z",
     "start_time": "2023-11-06T23:34:19.657112400Z"
    }
   },
   "id": "de6713a8079e9a06"
  },
  {
   "cell_type": "code",
   "execution_count": 36,
   "outputs": [],
   "source": [
    "books.fillna(\"\", inplace=True)"
   ],
   "metadata": {
    "collapsed": false,
    "ExecuteTime": {
     "end_time": "2023-11-06T23:34:19.756467Z",
     "start_time": "2023-11-06T23:34:19.693440200Z"
    }
   },
   "id": "b9645801c137da95"
  },
  {
   "cell_type": "code",
   "execution_count": 37,
   "outputs": [],
   "source": [
    "books.to_csv(\"c:/ricardo/meic/pri/project/data/clean_books.csv\", index=False)"
   ],
   "metadata": {
    "collapsed": false,
    "ExecuteTime": {
     "end_time": "2023-11-06T23:34:21.208700800Z",
     "start_time": "2023-11-06T23:34:19.758467800Z"
    }
   },
   "id": "350f8417d9964216"
  },
  {
   "cell_type": "code",
   "execution_count": 37,
   "outputs": [],
   "source": [],
   "metadata": {
    "collapsed": false,
    "ExecuteTime": {
     "end_time": "2023-11-06T23:34:21.212210100Z",
     "start_time": "2023-11-06T23:34:21.208700800Z"
    }
   },
   "id": "7de5e17d884410bc"
  }
 ],
 "metadata": {
  "kernelspec": {
   "display_name": "Python 3",
   "language": "python",
   "name": "python3"
  },
  "language_info": {
   "codemirror_mode": {
    "name": "ipython",
    "version": 2
   },
   "file_extension": ".py",
   "mimetype": "text/x-python",
   "name": "python",
   "nbconvert_exporter": "python",
   "pygments_lexer": "ipython2",
   "version": "2.7.6"
  }
 },
 "nbformat": 4,
 "nbformat_minor": 5
}
