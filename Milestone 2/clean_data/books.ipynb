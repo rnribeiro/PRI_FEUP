{
 "cells": [
  {
   "cell_type": "code",
   "execution_count": 1,
   "id": "10a0a981912461f3",
   "metadata": {
    "ExecuteTime": {
     "end_time": "2023-11-07T18:48:52.401266200Z",
     "start_time": "2023-11-07T18:48:51.752452600Z"
    },
    "collapsed": false
   },
   "outputs": [],
   "source": [
    "import pandas as pd"
   ]
  },
  {
   "cell_type": "code",
   "execution_count": null,
   "id": "d1417eca5697f011",
   "metadata": {
    "ExecuteTime": {
     "end_time": "2023-11-07T18:48:54.111086600Z",
     "start_time": "2023-11-07T18:48:52.403300100Z"
    },
    "collapsed": true
   },
   "outputs": [],
   "source": [
    "books_read = pd.read_csv(\"../../../data/books_data.csv\")"
   ]
  },
  {
   "cell_type": "code",
   "execution_count": null,
   "id": "f4f426163626279e",
   "metadata": {
    "ExecuteTime": {
     "end_time": "2023-11-07T18:48:54.133752Z",
     "start_time": "2023-11-07T18:48:54.111086600Z"
    },
    "collapsed": false
   },
   "outputs": [],
   "source": [
    "books = books_read.copy()"
   ]
  },
  {
   "cell_type": "code",
   "execution_count": null,
   "id": "4428bd4258121c0b",
   "metadata": {
    "ExecuteTime": {
     "end_time": "2023-11-07T18:48:54.166648800Z",
     "start_time": "2023-11-07T18:48:54.133752Z"
    },
    "collapsed": false
   },
   "outputs": [],
   "source": [
    "books = books.drop([\"image\", \"previewLink\", \"infoLink\", \"ratingsCount\"], axis=1, inplace=False)"
   ]
  },
  {
   "cell_type": "code",
   "execution_count": null,
   "id": "86b4467d37ca72ae",
   "metadata": {
    "ExecuteTime": {
     "end_time": "2023-11-07T18:48:54.177873300Z",
     "start_time": "2023-11-07T18:48:54.170257600Z"
    },
    "collapsed": false
   },
   "outputs": [],
   "source": [
    "books.rename(columns={'Title': 'book_title'}, inplace=True)"
   ]
  },
  {
   "cell_type": "code",
   "execution_count": null,
   "id": "cb8c4a70b7e7e68c",
   "metadata": {
    "ExecuteTime": {
     "end_time": "2023-11-07T18:48:54.185883300Z",
     "start_time": "2023-11-07T18:48:54.175829800Z"
    },
    "collapsed": false
   },
   "outputs": [],
   "source": [
    "# fill publishedDate with 0\n",
    "books[\"publishedDate\"].fillna(0, inplace=True)"
   ]
  },
  {
   "cell_type": "code",
   "execution_count": null,
   "id": "e06163f73cf5d91e",
   "metadata": {
    "ExecuteTime": {
     "end_time": "2023-11-07T18:48:54.424225200Z",
     "start_time": "2023-11-07T18:48:54.189505400Z"
    },
    "collapsed": false
   },
   "outputs": [],
   "source": [
    "# extract year from publishedDate if it is 4 digits\n",
    "books[\"publishedDate\"] = books[\"publishedDate\"].astype(str)\n",
    "books[\"publishedYear\"] = books[\"publishedDate\"].str.extract(r\"(\\d{4})\")\n",
    "books['publishedYear'] = books['publishedYear'].fillna(0)\n",
    "books[\"publishedYear\"] = books[\"publishedYear\"].astype(int)"
   ]
  },
  {
   "cell_type": "code",
   "execution_count": null,
   "id": "6ee2deed36a40399",
   "metadata": {
    "ExecuteTime": {
     "end_time": "2023-11-07T18:48:54.447377600Z",
     "start_time": "2023-11-07T18:48:54.424225200Z"
    },
    "collapsed": false
   },
   "outputs": [],
   "source": [
    "# drop publishedDate column\n",
    "books = books.drop([\"publishedDate\"], axis=1, inplace=False)"
   ]
  },
  {
   "cell_type": "code",
   "execution_count": null,
   "id": "1ad0e50b5761d5fb",
   "metadata": {
    "ExecuteTime": {
     "end_time": "2023-11-07T18:48:54.487229900Z",
     "start_time": "2023-11-07T18:48:54.486212100Z"
    },
    "collapsed": false
   },
   "outputs": [],
   "source": [
    "books[\"authors\"] = books[\"authors\"].str[2:-2]"
   ]
  },
  {
   "cell_type": "code",
   "execution_count": null,
   "id": "51d5bd8c1c35f5f",
   "metadata": {
    "ExecuteTime": {
     "end_time": "2023-11-07T18:48:54.525118400Z",
     "start_time": "2023-11-07T18:48:54.487229900Z"
    },
    "collapsed": false
   },
   "outputs": [],
   "source": [
    "books[\"authors\"] = books[\"authors\"].str.replace('\"', \"\")"
   ]
  },
  {
   "cell_type": "code",
   "execution_count": null,
   "id": "7b5eeb4bd6da8bdb",
   "metadata": {
    "ExecuteTime": {
     "end_time": "2023-11-07T18:48:54.573762200Z",
     "start_time": "2023-11-07T18:48:54.532260800Z"
    },
    "collapsed": false
   },
   "outputs": [],
   "source": [
    "books[\"authors\"] = books[\"authors\"].str.replace(\"', '\", \", \")"
   ]
  },
  {
   "cell_type": "code",
   "execution_count": null,
   "id": "de6713a8079e9a06",
   "metadata": {
    "ExecuteTime": {
     "end_time": "2023-11-07T18:48:54.616363100Z",
     "start_time": "2023-11-07T18:48:54.573762200Z"
    },
    "collapsed": false
   },
   "outputs": [],
   "source": [
    "books[\"categories\"] = books[\"categories\"].str[2:-2]"
   ]
  },
  {
   "cell_type": "code",
   "execution_count": null,
   "id": "b9645801c137da95",
   "metadata": {
    "ExecuteTime": {
     "end_time": "2023-11-07T18:48:54.672567300Z",
     "start_time": "2023-11-07T18:48:54.616363100Z"
    },
    "collapsed": false
   },
   "outputs": [],
   "source": [
    "books.fillna(\"\", inplace=True)"
   ]
  },
  {
   "cell_type": "code",
   "execution_count": null,
   "id": "350f8417d9964216",
   "metadata": {
    "ExecuteTime": {
     "end_time": "2023-11-07T18:48:56.024421300Z",
     "start_time": "2023-11-07T18:48:54.672567300Z"
    },
    "collapsed": false
   },
   "outputs": [],
   "source": [
    "books.to_csv(\"../../../data/clean_books.csv\", index=False)"
   ]
  }
 ],
 "metadata": {
  "kernelspec": {
   "display_name": "Python 3",
   "language": "python",
   "name": "python3"
  },
  "language_info": {
   "codemirror_mode": {
    "name": "ipython",
    "version": 3
   },
   "file_extension": ".py",
   "mimetype": "text/x-python",
   "name": "python",
   "nbconvert_exporter": "python",
   "pygments_lexer": "ipython3",
   "version": "3.11.6"
  }
 },
 "nbformat": 4,
 "nbformat_minor": 5
}
