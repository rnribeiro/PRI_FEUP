{
 "cells": [
  {
   "cell_type": "code",
   "execution_count": 1,
   "outputs": [],
   "source": [
    "import pandas as pd"
   ],
   "metadata": {
    "collapsed": false,
    "ExecuteTime": {
     "end_time": "2023-11-07T18:48:52.401266200Z",
     "start_time": "2023-11-07T18:48:51.752452600Z"
    }
   },
   "id": "10a0a981912461f3"
  },
  {
   "cell_type": "code",
   "execution_count": 2,
   "id": "d1417eca5697f011",
   "metadata": {
    "collapsed": true,
    "ExecuteTime": {
     "end_time": "2023-11-07T18:48:54.111086600Z",
     "start_time": "2023-11-07T18:48:52.403300100Z"
    }
   },
   "outputs": [],
   "source": [
    "books_read = pd.read_csv(\"../../../data/books_data.csv\")"
   ]
  },
  {
   "cell_type": "code",
   "execution_count": 3,
   "outputs": [],
   "source": [
    "books = books_read.copy()"
   ],
   "metadata": {
    "collapsed": false,
    "ExecuteTime": {
     "end_time": "2023-11-07T18:48:54.133752Z",
     "start_time": "2023-11-07T18:48:54.111086600Z"
    }
   },
   "id": "f4f426163626279e"
  },
  {
   "cell_type": "code",
   "execution_count": 4,
   "outputs": [],
   "source": [
    "books = books.drop([\"image\", \"previewLink\", \"infoLink\", \"ratingsCount\"], axis=1, inplace=False)"
   ],
   "metadata": {
    "collapsed": false,
    "ExecuteTime": {
     "end_time": "2023-11-07T18:48:54.166648800Z",
     "start_time": "2023-11-07T18:48:54.133752Z"
    }
   },
   "id": "4428bd4258121c0b"
  },
  {
   "cell_type": "code",
   "execution_count": 5,
   "outputs": [],
   "source": [
    "books.rename(columns={'Title': 'book_title'}, inplace=True)"
   ],
   "metadata": {
    "collapsed": false,
    "ExecuteTime": {
     "end_time": "2023-11-07T18:48:54.177873300Z",
     "start_time": "2023-11-07T18:48:54.170257600Z"
    }
   },
   "id": "86b4467d37ca72ae"
  },
  {
   "cell_type": "code",
   "execution_count": 6,
   "outputs": [],
   "source": [
    "# fill publishedDate with 0\n",
    "books[\"publishedDate\"].fillna(0, inplace=True)"
   ],
   "metadata": {
    "collapsed": false,
    "ExecuteTime": {
     "end_time": "2023-11-07T18:48:54.185883300Z",
     "start_time": "2023-11-07T18:48:54.175829800Z"
    }
   },
   "id": "cb8c4a70b7e7e68c"
  },
  {
   "cell_type": "code",
   "execution_count": 7,
   "outputs": [],
   "source": [
    "# extract year from publishedDate if it is 4 digits\n",
    "books[\"publishedDate\"] = books[\"publishedDate\"].astype(str)\n",
    "books[\"publishedYear\"] = books[\"publishedDate\"].str.extract(r\"(\\d{4})\")\n",
    "books['publishedYear'] = books['publishedYear'].fillna(0)\n",
    "books[\"publishedYear\"] = books[\"publishedYear\"].astype(int)"
   ],
   "metadata": {
    "collapsed": false,
    "ExecuteTime": {
     "end_time": "2023-11-07T18:48:54.424225200Z",
     "start_time": "2023-11-07T18:48:54.189505400Z"
    }
   },
   "id": "e06163f73cf5d91e"
  },
  {
   "cell_type": "code",
   "execution_count": 8,
   "outputs": [],
   "source": [
    "# drop publishedDate column\n",
    "books = books.drop([\"publishedDate\"], axis=1, inplace=False)"
   ],
   "metadata": {
    "collapsed": false,
    "ExecuteTime": {
     "end_time": "2023-11-07T18:48:54.447377600Z",
     "start_time": "2023-11-07T18:48:54.424225200Z"
    }
   },
   "id": "6ee2deed36a40399"
  },
  {
   "cell_type": "code",
   "execution_count": 9,
   "outputs": [],
   "source": [
    "books[\"authors\"] = books[\"authors\"].str[2:-2]"
   ],
   "metadata": {
    "collapsed": false,
    "ExecuteTime": {
     "end_time": "2023-11-07T18:48:54.487229900Z",
     "start_time": "2023-11-07T18:48:54.486212100Z"
    }
   },
   "id": "1ad0e50b5761d5fb"
  },
  {
   "cell_type": "code",
   "execution_count": 10,
   "outputs": [],
   "source": [
    "books[\"authors\"] = books[\"authors\"].str.replace('\"', \"\")"
   ],
   "metadata": {
    "collapsed": false,
    "ExecuteTime": {
     "end_time": "2023-11-07T18:48:54.525118400Z",
     "start_time": "2023-11-07T18:48:54.487229900Z"
    }
   },
   "id": "51d5bd8c1c35f5f"
  },
  {
   "cell_type": "code",
   "execution_count": 11,
   "outputs": [],
   "source": [
    "books[\"authors\"] = books[\"authors\"].str.replace(\"', '\", \", \")"
   ],
   "metadata": {
    "collapsed": false,
    "ExecuteTime": {
     "end_time": "2023-11-07T18:48:54.573762200Z",
     "start_time": "2023-11-07T18:48:54.532260800Z"
    }
   },
   "id": "7b5eeb4bd6da8bdb"
  },
  {
   "cell_type": "code",
   "execution_count": 12,
   "outputs": [],
   "source": [
    "books[\"categories\"] = books[\"categories\"].str[2:-2]"
   ],
   "metadata": {
    "collapsed": false,
    "ExecuteTime": {
     "end_time": "2023-11-07T18:48:54.616363100Z",
     "start_time": "2023-11-07T18:48:54.573762200Z"
    }
   },
   "id": "de6713a8079e9a06"
  },
  {
   "cell_type": "code",
   "execution_count": 13,
   "outputs": [],
   "source": [
    "books.fillna(\"\", inplace=True)"
   ],
   "metadata": {
    "collapsed": false,
    "ExecuteTime": {
     "end_time": "2023-11-07T18:48:54.672567300Z",
     "start_time": "2023-11-07T18:48:54.616363100Z"
    }
   },
   "id": "b9645801c137da95"
  },
  {
   "cell_type": "code",
   "execution_count": 14,
   "outputs": [],
   "source": [
    "books.to_csv(\"../../../data/clean_books.csv\", index=False)"
   ],
   "metadata": {
    "collapsed": false,
    "ExecuteTime": {
     "end_time": "2023-11-07T18:48:56.024421300Z",
     "start_time": "2023-11-07T18:48:54.672567300Z"
    }
   },
   "id": "350f8417d9964216"
  }
 ],
 "metadata": {
  "kernelspec": {
   "display_name": "Python 3",
   "language": "python",
   "name": "python3"
  },
  "language_info": {
   "codemirror_mode": {
    "name": "ipython",
    "version": 2
   },
   "file_extension": ".py",
   "mimetype": "text/x-python",
   "name": "python",
   "nbconvert_exporter": "python",
   "pygments_lexer": "ipython2",
   "version": "2.7.6"
  }
 },
 "nbformat": 4,
 "nbformat_minor": 5
}
