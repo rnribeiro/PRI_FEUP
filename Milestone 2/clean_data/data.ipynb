{
 "cells": [
  {
   "cell_type": "code",
   "execution_count": 1,
   "outputs": [],
   "source": [
    "import pandas as pd"
   ],
   "metadata": {
    "collapsed": false,
    "ExecuteTime": {
     "end_time": "2023-11-07T18:51:04.745571600Z",
     "start_time": "2023-11-07T18:51:04.193327300Z"
    }
   },
   "id": "b6a703587b0d59b7"
  },
  {
   "cell_type": "code",
   "execution_count": 2,
   "outputs": [],
   "source": [
    "books = pd.read_csv(\"../../../data/clean_books.csv\")"
   ],
   "metadata": {
    "collapsed": false,
    "ExecuteTime": {
     "end_time": "2023-11-07T18:51:05.860692100Z",
     "start_time": "2023-11-07T18:51:04.748745400Z"
    }
   },
   "id": "25795762b7b3d177"
  },
  {
   "cell_type": "code",
   "execution_count": 3,
   "outputs": [],
   "source": [
    "reviews = pd.read_csv(\"../../../data/clean_reviews.csv\")"
   ],
   "metadata": {
    "collapsed": false,
    "ExecuteTime": {
     "end_time": "2023-11-07T18:51:40.940278500Z",
     "start_time": "2023-11-07T18:51:05.860692100Z"
    }
   },
   "id": "20c54c4b13a99669"
  },
  {
   "cell_type": "code",
   "execution_count": 4,
   "outputs": [],
   "source": [
    "# Group 'reviews' DataFrame by 'book_title' and aggregate reviews as a list\n",
    "reviews_grouped = reviews.groupby('book_title').apply(lambda x: x[['summary', 'text']].to_dict('records')).reset_index(name='reviews')"
   ],
   "metadata": {
    "collapsed": false,
    "ExecuteTime": {
     "end_time": "2023-11-07T18:53:06.676466500Z",
     "start_time": "2023-11-07T18:51:41.286487300Z"
    }
   },
   "id": "5bb0816b86682f6f"
  },
  {
   "cell_type": "code",
   "execution_count": 5,
   "outputs": [],
   "source": [
    "# Merge 'books' DataFrame with aggregated reviews\n",
    "result_2 = books.merge(reviews_grouped, on='book_title', how='left')"
   ],
   "metadata": {
    "collapsed": false,
    "ExecuteTime": {
     "end_time": "2023-11-07T18:53:07.447261100Z",
     "start_time": "2023-11-07T18:53:06.685471400Z"
    }
   },
   "id": "d3ea9d53d3c70294"
  },
  {
   "cell_type": "code",
   "execution_count": 6,
   "outputs": [],
   "source": [
    "# Convert the result to a JSON format\n",
    "json_result = result_2.to_json(\"../../../data/books_data_reviews.json\", orient='records', lines=True, indent=5)"
   ],
   "metadata": {
    "collapsed": false,
    "ExecuteTime": {
     "end_time": "2023-11-07T18:55:08.019246500Z",
     "start_time": "2023-11-07T18:53:07.449261600Z"
    }
   },
   "id": "ab7d6a1c5c1cfcd9"
  },
  {
   "cell_type": "code",
   "execution_count": 7,
   "outputs": [],
   "source": [
    "# Create a sample of 1000 books\n",
    "sample = result_2.sample(n=1000, random_state=1)"
   ],
   "metadata": {
    "collapsed": false,
    "ExecuteTime": {
     "end_time": "2023-11-07T18:55:12.718187400Z",
     "start_time": "2023-11-07T18:55:12.245495100Z"
    }
   },
   "id": "a8e65a2a1cb8479b"
  },
  {
   "cell_type": "code",
   "execution_count": 8,
   "outputs": [],
   "source": [
    "# Convert the sample to a JSON format\n",
    "json_sample = sample.to_json(\"../../../data/books_data_reviews_sample.json\", orient='records', lines=True, indent=5)"
   ],
   "metadata": {
    "collapsed": false,
    "ExecuteTime": {
     "end_time": "2023-11-07T18:55:17.466707200Z",
     "start_time": "2023-11-07T18:55:17.397130Z"
    }
   },
   "id": "4c9183fbc7244af8"
  }
 ],
 "metadata": {
  "kernelspec": {
   "display_name": "Python 3",
   "language": "python",
   "name": "python3"
  },
  "language_info": {
   "codemirror_mode": {
    "name": "ipython",
    "version": 2
   },
   "file_extension": ".py",
   "mimetype": "text/x-python",
   "name": "python",
   "nbconvert_exporter": "python",
   "pygments_lexer": "ipython2",
   "version": "2.7.6"
  }
 },
 "nbformat": 4,
 "nbformat_minor": 5
}
