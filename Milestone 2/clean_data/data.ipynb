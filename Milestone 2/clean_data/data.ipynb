{
 "cells": [
  {
   "cell_type": "code",
   "execution_count": 2,
   "outputs": [],
   "source": [
    "import pandas as pd"
   ],
   "metadata": {
    "collapsed": false,
    "ExecuteTime": {
     "end_time": "2023-11-13T10:56:38.055998300Z",
     "start_time": "2023-11-13T10:56:37.865939Z"
    }
   },
   "id": "b6a703587b0d59b7"
  },
  {
   "cell_type": "code",
   "execution_count": 3,
   "outputs": [],
   "source": [
    "books = pd.read_csv(\"../../../data/clean_books.csv\")"
   ],
   "metadata": {
    "collapsed": false,
    "ExecuteTime": {
     "end_time": "2023-11-13T10:56:39.972081600Z",
     "start_time": "2023-11-13T10:56:38.873020200Z"
    }
   },
   "id": "25795762b7b3d177"
  },
  {
   "cell_type": "code",
   "execution_count": 4,
   "outputs": [],
   "source": [
    "reviews = pd.read_csv(\"../../../data/clean_reviews.csv\")"
   ],
   "metadata": {
    "collapsed": false,
    "ExecuteTime": {
     "end_time": "2023-11-13T10:56:57.546251800Z",
     "start_time": "2023-11-13T10:56:40.736269300Z"
    }
   },
   "id": "20c54c4b13a99669"
  },
  {
   "cell_type": "code",
   "execution_count": 5,
   "outputs": [],
   "source": [
    "# Group 'reviews' DataFrame by 'book_title' and aggregate reviews as a list\n",
    "reviews_grouped = reviews.groupby('book_title').apply(lambda x: x[['summary', 'text']].to_dict('records')).reset_index(name='reviews')"
   ],
   "metadata": {
    "collapsed": false,
    "ExecuteTime": {
     "end_time": "2023-11-13T10:58:30.942629700Z",
     "start_time": "2023-11-13T10:57:03.412250400Z"
    }
   },
   "id": "5bb0816b86682f6f"
  },
  {
   "cell_type": "code",
   "execution_count": 6,
   "outputs": [],
   "source": [
    "# Merge 'books' DataFrame with aggregated reviews\n",
    "result_2 = books.merge(reviews_grouped, on='book_title', how='left')"
   ],
   "metadata": {
    "collapsed": false,
    "ExecuteTime": {
     "end_time": "2023-11-13T10:58:42.363590Z",
     "start_time": "2023-11-13T10:58:41.394472300Z"
    }
   },
   "id": "d3ea9d53d3c70294"
  },
  {
   "cell_type": "code",
   "execution_count": 8,
   "outputs": [],
   "source": [
    "result_2[\"book_id\"] = range(1, len(result_2) + 1)"
   ],
   "metadata": {
    "collapsed": false,
    "ExecuteTime": {
     "end_time": "2023-11-13T10:58:47.177427700Z",
     "start_time": "2023-11-13T10:58:47.166382500Z"
    }
   },
   "id": "8737d3b47582af7f"
  },
  {
   "cell_type": "code",
   "execution_count": 10,
   "outputs": [],
   "source": [
    "# Convert the result to a JSON format\n",
    "json_result = result_2.to_json(\"../../../data/books_data_reviews.json\", orient='records', lines=True, indent=5)"
   ],
   "metadata": {
    "collapsed": false,
    "ExecuteTime": {
     "end_time": "2023-11-13T11:01:48.046445800Z",
     "start_time": "2023-11-13T10:59:11.793810200Z"
    }
   },
   "id": "ab7d6a1c5c1cfcd9"
  },
  {
   "cell_type": "code",
   "execution_count": 11,
   "outputs": [],
   "source": [
    "# Create a sample of 5000 books\n",
    "sample = result_2.sample(n=5000, random_state=1)"
   ],
   "metadata": {
    "collapsed": false,
    "ExecuteTime": {
     "end_time": "2023-11-13T11:02:52.746412Z",
     "start_time": "2023-11-13T11:02:50.676623400Z"
    }
   },
   "id": "9bf9c3f6403c06f6"
  },
  {
   "cell_type": "code",
   "execution_count": 12,
   "outputs": [],
   "source": [
    "# Convert the sample to a JSON format\n",
    "json_sample = sample.to_json(\"../../../data/books_data_reviews_sample.json\", orient='records', lines=True, indent=5)"
   ],
   "metadata": {
    "collapsed": false,
    "ExecuteTime": {
     "end_time": "2023-11-13T11:03:51.636490200Z",
     "start_time": "2023-11-13T11:02:56.626355100Z"
    }
   },
   "id": "4c9183fbc7244af8"
  }
 ],
 "metadata": {
  "kernelspec": {
   "display_name": "Python 3",
   "language": "python",
   "name": "python3"
  },
  "language_info": {
   "codemirror_mode": {
    "name": "ipython",
    "version": 2
   },
   "file_extension": ".py",
   "mimetype": "text/x-python",
   "name": "python",
   "nbconvert_exporter": "python",
   "pygments_lexer": "ipython2",
   "version": "2.7.6"
  }
 },
 "nbformat": 4,
 "nbformat_minor": 5
}
