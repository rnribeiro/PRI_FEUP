{
 "cells": [
  {
   "cell_type": "code",
   "execution_count": 1,
   "id": "b6a703587b0d59b7",
   "metadata": {
    "ExecuteTime": {
     "end_time": "2023-11-13T10:56:38.055998300Z",
     "start_time": "2023-11-13T10:56:37.865939Z"
    },
    "collapsed": false
   },
   "outputs": [],
   "source": [
    "import pandas as pd"
   ]
  },
  {
   "cell_type": "code",
   "execution_count": 2,
   "id": "25795762b7b3d177",
   "metadata": {
    "ExecuteTime": {
     "end_time": "2023-11-13T10:56:39.972081600Z",
     "start_time": "2023-11-13T10:56:38.873020200Z"
    },
    "collapsed": false
   },
   "outputs": [],
   "source": [
    "books = pd.read_csv(\"../../../data/clean_books.csv\")"
   ]
  },
  {
   "cell_type": "code",
   "execution_count": null,
   "id": "20c54c4b13a99669",
   "metadata": {
    "ExecuteTime": {
     "end_time": "2023-11-13T10:56:57.546251800Z",
     "start_time": "2023-11-13T10:56:40.736269300Z"
    },
    "collapsed": false
   },
   "outputs": [],
   "source": [
    "reviews = pd.read_csv(\"../../../data/clean_reviews.csv\")"
   ]
  },
  {
   "cell_type": "code",
   "execution_count": null,
   "id": "5bb0816b86682f6f",
   "metadata": {
    "ExecuteTime": {
     "end_time": "2023-11-13T10:58:30.942629700Z",
     "start_time": "2023-11-13T10:57:03.412250400Z"
    },
    "collapsed": false
   },
   "outputs": [],
   "source": [
    "# Group 'reviews' DataFrame by 'book_title' and aggregate reviews as a list\n",
    "reviews_grouped = reviews.groupby('book_title').apply(lambda x: x[['summary', 'text']].to_dict('records')).reset_index(name='reviews')"
   ]
  },
  {
   "cell_type": "code",
   "execution_count": null,
   "id": "d3ea9d53d3c70294",
   "metadata": {
    "ExecuteTime": {
     "end_time": "2023-11-13T10:58:42.363590Z",
     "start_time": "2023-11-13T10:58:41.394472300Z"
    },
    "collapsed": false
   },
   "outputs": [],
   "source": [
    "# Merge 'books' DataFrame with aggregated reviews\n",
    "result_2 = books.merge(reviews_grouped, on='book_title', how='left')"
   ]
  },
  {
   "cell_type": "code",
   "execution_count": null,
   "id": "8737d3b47582af7f",
   "metadata": {
    "ExecuteTime": {
     "end_time": "2023-11-13T10:58:47.177427700Z",
     "start_time": "2023-11-13T10:58:47.166382500Z"
    },
    "collapsed": false
   },
   "outputs": [],
   "source": [
    "result_2[\"book_id\"] = range(1, len(result_2) + 1)"
   ]
  },
  {
   "cell_type": "code",
   "execution_count": null,
   "id": "ab7d6a1c5c1cfcd9",
   "metadata": {
    "ExecuteTime": {
     "end_time": "2023-11-13T11:01:48.046445800Z",
     "start_time": "2023-11-13T10:59:11.793810200Z"
    },
    "collapsed": false
   },
   "outputs": [],
   "source": [
    "# Convert the result to a JSON format\n",
    "json_result = result_2.to_json(\"../../../data/books_data_reviews.json\", orient='records', lines=True, indent=5)"
   ]
  },
  {
   "cell_type": "code",
   "execution_count": null,
   "id": "9bf9c3f6403c06f6",
   "metadata": {
    "ExecuteTime": {
     "end_time": "2023-11-13T11:02:52.746412Z",
     "start_time": "2023-11-13T11:02:50.676623400Z"
    },
    "collapsed": false
   },
   "outputs": [],
   "source": [
    "# Create a sample of 5000 books\n",
    "sample = result_2.sample(n=5000, random_state=1)"
   ]
  },
  {
   "cell_type": "code",
   "execution_count": null,
   "id": "4c9183fbc7244af8",
   "metadata": {
    "ExecuteTime": {
     "end_time": "2023-11-13T11:03:51.636490200Z",
     "start_time": "2023-11-13T11:02:56.626355100Z"
    },
    "collapsed": false
   },
   "outputs": [],
   "source": [
    "# Convert the sample to a JSON format\n",
    "json_sample = sample.to_json(\"../../../data/books_data_reviews_sample.json\", orient='records', lines=True, indent=5)"
   ]
  }
 ],
 "metadata": {
  "kernelspec": {
   "display_name": "Python 3",
   "language": "python",
   "name": "python3"
  },
  "language_info": {
   "codemirror_mode": {
    "name": "ipython",
    "version": 3
   },
   "file_extension": ".py",
   "mimetype": "text/x-python",
   "name": "python",
   "nbconvert_exporter": "python",
   "pygments_lexer": "ipython3",
   "version": "3.11.6"
  }
 },
 "nbformat": 4,
 "nbformat_minor": 5
}
