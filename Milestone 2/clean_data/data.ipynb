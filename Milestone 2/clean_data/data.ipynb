{
 "cells": [
  {
   "cell_type": "code",
   "execution_count": 1,
   "outputs": [],
   "source": [
    "import pandas as pd"
   ],
   "metadata": {
    "collapsed": false,
    "ExecuteTime": {
     "end_time": "2023-11-06T23:35:19.500179400Z",
     "start_time": "2023-11-06T23:35:18.848422400Z"
    }
   },
   "id": "b6a703587b0d59b7"
  },
  {
   "cell_type": "code",
   "execution_count": 2,
   "outputs": [],
   "source": [
    "books = pd.read_csv(\"../../../data/clean_books.csv\")"
   ],
   "metadata": {
    "collapsed": false,
    "ExecuteTime": {
     "end_time": "2023-11-06T23:35:20.645839300Z",
     "start_time": "2023-11-06T23:35:19.500179400Z"
    }
   },
   "id": "25795762b7b3d177"
  },
  {
   "cell_type": "code",
   "execution_count": 3,
   "outputs": [],
   "source": [
    "reviews = pd.read_csv(\"../../../data/clean_reviews.csv\")"
   ],
   "metadata": {
    "collapsed": false,
    "ExecuteTime": {
     "end_time": "2023-11-06T23:35:40.438701700Z",
     "start_time": "2023-11-06T23:35:20.644840200Z"
    }
   },
   "id": "20c54c4b13a99669"
  },
  {
   "cell_type": "code",
   "execution_count": 4,
   "outputs": [],
   "source": [
    "# Group 'reviews' DataFrame by 'book_title' and aggregate reviews as a list\n",
    "reviews_grouped = reviews.groupby('book_title').apply(lambda x: x[['summary', 'text']].to_dict('records')).reset_index(name='reviews')"
   ],
   "metadata": {
    "collapsed": false,
    "ExecuteTime": {
     "end_time": "2023-11-06T23:37:11.454133900Z",
     "start_time": "2023-11-06T23:35:40.442191600Z"
    }
   },
   "id": "5bb0816b86682f6f"
  },
  {
   "cell_type": "code",
   "execution_count": 5,
   "outputs": [],
   "source": [
    "# Merge 'books' DataFrame with aggregated reviews\n",
    "result_2 = books.merge(reviews_grouped, on='book_title', how='left')"
   ],
   "metadata": {
    "collapsed": false,
    "ExecuteTime": {
     "end_time": "2023-11-06T23:37:12.194596200Z",
     "start_time": "2023-11-06T23:37:11.480651400Z"
    }
   },
   "id": "d3ea9d53d3c70294"
  },
  {
   "cell_type": "code",
   "execution_count": 6,
   "outputs": [],
   "source": [
    "# Convert the result to a JSON format\n",
    "json_result = result_2.to_json(\"../../../data/books_data_reviews.json\", orient='records', lines=True, indent=5)"
   ],
   "metadata": {
    "collapsed": false,
    "ExecuteTime": {
     "end_time": "2023-11-06T23:37:58.768471Z",
     "start_time": "2023-11-06T23:37:12.194596200Z"
    }
   },
   "id": "ab7d6a1c5c1cfcd9"
  }
 ],
 "metadata": {
  "kernelspec": {
   "display_name": "Python 3",
   "language": "python",
   "name": "python3"
  },
  "language_info": {
   "codemirror_mode": {
    "name": "ipython",
    "version": 2
   },
   "file_extension": ".py",
   "mimetype": "text/x-python",
   "name": "python",
   "nbconvert_exporter": "python",
   "pygments_lexer": "ipython2",
   "version": "2.7.6"
  }
 },
 "nbformat": 4,
 "nbformat_minor": 5
}
