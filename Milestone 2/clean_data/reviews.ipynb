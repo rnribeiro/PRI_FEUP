{
 "cells": [
  {
   "cell_type": "code",
   "execution_count": 1,
   "id": "935f44a5a1b5a556",
   "metadata": {
    "collapsed": true,
    "ExecuteTime": {
     "end_time": "2023-11-06T18:35:11.668787Z",
     "start_time": "2023-11-06T18:35:11.225218200Z"
    }
   },
   "outputs": [],
   "source": [
    "import pandas as pd"
   ]
  },
  {
   "cell_type": "code",
   "execution_count": 2,
   "outputs": [],
   "source": [
    "reviews_read = pd.read_csv(\"../../../data/Books_rating.csv\")"
   ],
   "metadata": {
    "collapsed": false
   },
   "id": "ab65946a4c35ec49"
  },
  {
   "cell_type": "code",
   "execution_count": 3,
   "outputs": [],
   "source": [
    "reviews = reviews_read.copy()"
   ],
   "metadata": {
    "collapsed": false,
    "ExecuteTime": {
     "end_time": "2023-11-06T18:36:11.687970300Z",
     "start_time": "2023-11-06T18:36:11.466561600Z"
    }
   },
   "id": "30d689c70b94e1e8"
  },
  {
   "cell_type": "code",
   "execution_count": 5,
   "outputs": [],
   "source": [
    "reviews = reviews.drop([\"Id\", \"Price\", \"User_id\", \"profileName\", \"review/helpfulness\", \"review/score\", \"review/time\"], axis=1, inplace=False)"
   ],
   "metadata": {
    "collapsed": false,
    "ExecuteTime": {
     "end_time": "2023-11-06T18:36:11.988297500Z",
     "start_time": "2023-11-06T18:36:11.735412200Z"
    }
   },
   "id": "faaf09a2c3345c23"
  },
  {
   "cell_type": "code",
   "execution_count": 6,
   "outputs": [],
   "source": [
    "reviews.rename(columns={'Title': 'book_title', 'review/summary': 'summary', 'review/text': 'text'}, inplace=True)"
   ],
   "metadata": {
    "collapsed": false,
    "ExecuteTime": {
     "end_time": "2023-11-06T18:36:11.997939600Z",
     "start_time": "2023-11-06T18:36:11.988297500Z"
    }
   },
   "id": "d07e9f5be41ca9ec"
  },
  {
   "cell_type": "code",
   "execution_count": 7,
   "outputs": [],
   "source": [
    "reviews.fillna(\"\", inplace=True)"
   ],
   "metadata": {
    "collapsed": false,
    "ExecuteTime": {
     "end_time": "2023-11-06T18:36:12.803943900Z",
     "start_time": "2023-11-06T18:36:11.993421800Z"
    }
   },
   "id": "initial_id"
  },
  {
   "cell_type": "code",
   "execution_count": 8,
   "outputs": [],
   "source": [
    "reviews.to_csv(\"../../../data/clean_reviews.csv\", index=False)"
   ],
   "metadata": {
    "collapsed": false,
    "ExecuteTime": {
     "end_time": "2023-11-06T18:36:48.337000600Z",
     "start_time": "2023-11-06T18:36:12.803943900Z"
    }
   },
   "id": "7cdac16c42768943"
  }
 ],
 "metadata": {
  "kernelspec": {
   "display_name": "Python 3",
   "language": "python",
   "name": "python3"
  },
  "language_info": {
   "codemirror_mode": {
    "name": "ipython",
    "version": 2
   },
   "file_extension": ".py",
   "mimetype": "text/x-python",
   "name": "python",
   "nbconvert_exporter": "python",
   "pygments_lexer": "ipython2",
   "version": "2.7.6"
  }
 },
 "nbformat": 4,
 "nbformat_minor": 5
}
