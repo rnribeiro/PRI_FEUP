{
 "cells": [
  {
   "cell_type": "code",
   "execution_count": 1,
   "id": "935f44a5a1b5a556",
   "metadata": {
    "ExecuteTime": {
     "end_time": "2023-11-07T18:49:29.073019400Z",
     "start_time": "2023-11-07T18:49:28.729522500Z"
    },
    "collapsed": true
   },
   "outputs": [],
   "source": [
    "import pandas as pd"
   ]
  },
  {
   "cell_type": "code",
   "execution_count": 2,
   "id": "ab65946a4c35ec49",
   "metadata": {
    "ExecuteTime": {
     "end_time": "2023-11-07T18:50:15.781383Z",
     "start_time": "2023-11-07T18:49:29.073019400Z"
    },
    "collapsed": false
   },
   "outputs": [],
   "source": [
    "reviews_read = pd.read_csv(\"../../../data/Books_rating.csv\")"
   ]
  },
  {
   "cell_type": "code",
   "execution_count": null,
   "id": "30d689c70b94e1e8",
   "metadata": {
    "ExecuteTime": {
     "end_time": "2023-11-07T18:50:15.997600500Z",
     "start_time": "2023-11-07T18:50:15.803433600Z"
    },
    "collapsed": false
   },
   "outputs": [],
   "source": [
    "reviews = reviews_read.copy()"
   ]
  },
  {
   "cell_type": "code",
   "execution_count": null,
   "id": "faaf09a2c3345c23",
   "metadata": {
    "ExecuteTime": {
     "end_time": "2023-11-07T18:50:16.230848300Z",
     "start_time": "2023-11-07T18:50:16.002609900Z"
    },
    "collapsed": false
   },
   "outputs": [],
   "source": [
    "reviews = reviews.drop([\"Id\", \"Price\", \"User_id\", \"profileName\", \"review/helpfulness\", \"review/score\", \"review/time\"], axis=1, inplace=False)"
   ]
  },
  {
   "cell_type": "code",
   "execution_count": null,
   "id": "d07e9f5be41ca9ec",
   "metadata": {
    "ExecuteTime": {
     "end_time": "2023-11-07T18:50:16.242711700Z",
     "start_time": "2023-11-07T18:50:16.237933200Z"
    },
    "collapsed": false
   },
   "outputs": [],
   "source": [
    "reviews.rename(columns={'Title': 'book_title', 'review/summary': 'summary', 'review/text': 'text'}, inplace=True)"
   ]
  },
  {
   "cell_type": "code",
   "execution_count": null,
   "id": "initial_id",
   "metadata": {
    "ExecuteTime": {
     "end_time": "2023-11-07T18:50:16.999779100Z",
     "start_time": "2023-11-07T18:50:16.242711700Z"
    },
    "collapsed": false
   },
   "outputs": [],
   "source": [
    "reviews.fillna(\"\", inplace=True)"
   ]
  },
  {
   "cell_type": "code",
   "execution_count": null,
   "id": "7cdac16c42768943",
   "metadata": {
    "ExecuteTime": {
     "end_time": "2023-11-07T18:50:49.238663900Z",
     "start_time": "2023-11-07T18:50:16.999779100Z"
    },
    "collapsed": false
   },
   "outputs": [],
   "source": [
    "reviews.to_csv(\"../../../data/clean_reviews.csv\", index=False)"
   ]
  }
 ],
 "metadata": {
  "kernelspec": {
   "display_name": "Python 3",
   "language": "python",
   "name": "python3"
  },
  "language_info": {
   "codemirror_mode": {
    "name": "ipython",
    "version": 3
   },
   "file_extension": ".py",
   "mimetype": "text/x-python",
   "name": "python",
   "nbconvert_exporter": "python",
   "pygments_lexer": "ipython3",
   "version": "3.11.6"
  }
 },
 "nbformat": 4,
 "nbformat_minor": 5
}
