{
 "cells": [
  {
   "cell_type": "code",
   "execution_count": 1,
   "id": "935f44a5a1b5a556",
   "metadata": {
    "collapsed": true,
    "ExecuteTime": {
     "end_time": "2023-11-07T18:49:29.073019400Z",
     "start_time": "2023-11-07T18:49:28.729522500Z"
    }
   },
   "outputs": [],
   "source": [
    "import pandas as pd"
   ]
  },
  {
   "cell_type": "code",
   "execution_count": 2,
   "outputs": [],
   "source": [
    "reviews_read = pd.read_csv(\"../../../data/Books_rating.csv\")"
   ],
   "metadata": {
    "collapsed": false,
    "ExecuteTime": {
     "end_time": "2023-11-07T18:50:15.781383Z",
     "start_time": "2023-11-07T18:49:29.073019400Z"
    }
   },
   "id": "ab65946a4c35ec49"
  },
  {
   "cell_type": "code",
   "execution_count": 3,
   "outputs": [],
   "source": [
    "reviews = reviews_read.copy()"
   ],
   "metadata": {
    "collapsed": false,
    "ExecuteTime": {
     "end_time": "2023-11-07T18:50:15.997600500Z",
     "start_time": "2023-11-07T18:50:15.803433600Z"
    }
   },
   "id": "30d689c70b94e1e8"
  },
  {
   "cell_type": "code",
   "execution_count": 4,
   "outputs": [],
   "source": [
    "reviews = reviews.drop([\"Id\", \"Price\", \"User_id\", \"profileName\", \"review/helpfulness\", \"review/score\", \"review/time\"], axis=1, inplace=False)"
   ],
   "metadata": {
    "collapsed": false,
    "ExecuteTime": {
     "end_time": "2023-11-07T18:50:16.230848300Z",
     "start_time": "2023-11-07T18:50:16.002609900Z"
    }
   },
   "id": "faaf09a2c3345c23"
  },
  {
   "cell_type": "code",
   "execution_count": 5,
   "outputs": [],
   "source": [
    "reviews.rename(columns={'Title': 'book_title', 'review/summary': 'summary', 'review/text': 'text'}, inplace=True)"
   ],
   "metadata": {
    "collapsed": false,
    "ExecuteTime": {
     "end_time": "2023-11-07T18:50:16.242711700Z",
     "start_time": "2023-11-07T18:50:16.237933200Z"
    }
   },
   "id": "d07e9f5be41ca9ec"
  },
  {
   "cell_type": "code",
   "execution_count": 6,
   "outputs": [],
   "source": [
    "reviews.fillna(\"\", inplace=True)"
   ],
   "metadata": {
    "collapsed": false,
    "ExecuteTime": {
     "end_time": "2023-11-07T18:50:16.999779100Z",
     "start_time": "2023-11-07T18:50:16.242711700Z"
    }
   },
   "id": "initial_id"
  },
  {
   "cell_type": "code",
   "execution_count": 7,
   "outputs": [],
   "source": [
    "reviews.to_csv(\"../../../data/clean_reviews.csv\", index=False)"
   ],
   "metadata": {
    "collapsed": false,
    "ExecuteTime": {
     "end_time": "2023-11-07T18:50:49.238663900Z",
     "start_time": "2023-11-07T18:50:16.999779100Z"
    }
   },
   "id": "7cdac16c42768943"
  }
 ],
 "metadata": {
  "kernelspec": {
   "display_name": "Python 3",
   "language": "python",
   "name": "python3"
  },
  "language_info": {
   "codemirror_mode": {
    "name": "ipython",
    "version": 2
   },
   "file_extension": ".py",
   "mimetype": "text/x-python",
   "name": "python",
   "nbconvert_exporter": "python",
   "pygments_lexer": "ipython2",
   "version": "2.7.6"
  }
 },
 "nbformat": 4,
 "nbformat_minor": 5
}
