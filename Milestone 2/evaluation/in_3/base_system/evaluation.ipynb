{
 "cells": [
  {
   "cell_type": "code",
   "execution_count": 8,
   "id": "initial_id",
   "metadata": {
    "ExecuteTime": {
     "end_time": "2023-11-11T15:52:59.202370700Z",
     "start_time": "2023-11-11T15:52:58.123304200Z"
    },
    "collapsed": true
   },
   "outputs": [],
   "source": [
    "# SETUP\n",
    "import matplotlib.pyplot as plt\n",
    "from sklearn.metrics import PrecisionRecallDisplay\n",
    "import numpy as np\n",
    "import json\n",
    "import requests\n",
    "import pandas as pd\n",
    "import joblib\n",
    "\n",
    "QRELS_FILE = \"../qrels.txt\"\n",
    "QUERY_URL = \"http://localhost:8983/solr/books/select?defType=edismax&indent=true&q.op=OR&q=novel%20AND%20post-apocalyptic&qf=book_title%20reviews.text%20reviews.summary%20description%20categories&rows=40&useParams=\"\n",
    "\n",
    "\n",
    "\"\"\"\n",
    "q = novel AND post-apocalyptic\n",
    "q.op = or\n",
    "\n",
    "defType = edismax\n",
    "qf = book_title reviews.text reviews.summary description categories\n",
    "\"\"\"\n",
    "\n",
    "\n",
    "# Read qrels to extract relevant documents\n",
    "relevant = list(map(lambda el: int(el.strip()), open(QRELS_FILE).readlines()))\n",
    "# Get query results from Solr instance\n",
    "results = requests.get(QUERY_URL).json()['response']['docs']"
   ]
  },
  {
   "cell_type": "code",
   "execution_count": 9,
   "id": "a030be9c4e5988f3",
   "metadata": {
    "ExecuteTime": {
     "end_time": "2023-11-11T15:52:59.211904800Z",
     "start_time": "2023-11-11T15:52:59.205841100Z"
    },
    "collapsed": false
   },
   "outputs": [],
   "source": [
    "# METRICS TABLE\n",
    "# Define custom decorator to automatically calculate metric based on key\n",
    "metrics = {}\n",
    "metric = lambda f: metrics.setdefault(f.__name__, f)\n",
    "\n",
    "@metric\n",
    "def ap(results, relevant):\n",
    "    \"\"\"Average Precision\"\"\"\n",
    "    precision_values = []\n",
    "    relevant_count = 0\n",
    "\n",
    "    for idx, doc in enumerate(results):\n",
    "        if doc['book_id'] in relevant:\n",
    "            relevant_count += 1\n",
    "            precision_at_k = relevant_count / (idx + 1)\n",
    "            precision_values.append(precision_at_k)\n",
    "\n",
    "    if not precision_values:\n",
    "        return 0.0\n",
    "\n",
    "    return sum(precision_values)/len(precision_values)\n",
    "\n",
    "@metric\n",
    "def p10(results, relevant, n=10):\n",
    "    \"\"\"Precision at N\"\"\"\n",
    "    return len([doc for doc in results[:n] if doc['book_id'] in relevant])/n\n",
    "\n",
    "def calculate_metric(key, results, relevant):\n",
    "    return metrics[key](results, relevant)\n",
    "\n",
    "# Define metrics to be calculated\n",
    "evaluation_metrics = {\n",
    "    'ap': 'Average Precision',\n",
    "    'p10': 'Precision at 10 (P@10)'\n",
    "}\n",
    "\n",
    "# Calculate all metrics and export results as LaTeX table\n",
    "df = pd.DataFrame([['Metric','Value']] +\n",
    "                  [\n",
    "                      [evaluation_metrics[m], calculate_metric(m, results, relevant)]\n",
    "                      for m in evaluation_metrics\n",
    "                  ]\n",
    "                  )\n",
    "\n",
    "with open('results.tex','w') as tf:\n",
    "    tf.write(df.to_latex())\n",
    "with open('results.csv','w') as tf:\n",
    "    tf.write(df.to_csv())\n"
   ]
  },
  {
   "cell_type": "code",
   "execution_count": 11,
   "id": "d13c8096ab93a67f",
   "metadata": {
    "ExecuteTime": {
     "end_time": "2023-11-11T15:52:59.300095100Z",
     "start_time": "2023-11-11T15:52:59.211904800Z"
    },
    "collapsed": false
   },
   "outputs": [
    {
     "name": "stdout",
     "output_type": "stream",
     "text": [
      "[1, 0, 1, 1, 1, 0, 1, 1, 1, 0, 1, 1, 1, 1, 1, 1, 1, 0, 1, 1, 1, 0, 0, 0, 1, 0, 0, 1, 1, 0, 0, 0, 0, 0, 1, 0, 1, 0, 0, 0]\n",
      "[(0.037037037037037035, 1.0), (0.037037037037037035, 0.8235294117647058), (0.07407407407407407, 0.8235294117647058), (0.1111111111111111, 0.8235294117647058), (0.14814814814814814, 0.8235294117647058), (0.14814814814814814, 0.8235294117647058), (0.18518518518518517, 0.8235294117647058), (0.2222222222222222, 0.8235294117647058), (0.25925925925925924, 0.8235294117647058), (0.25925925925925924, 0.8235294117647058), (0.2962962962962963, 0.8235294117647058), (0.3333333333333333, 0.8235294117647058), (0.37037037037037035, 0.8235294117647058), (0.4074074074074074, 0.8235294117647058), (0.4444444444444444, 0.8235294117647058), (0.48148148148148145, 0.8235294117647058), (0.5185185185185185, 0.8235294117647058), (0.5185185185185185, 0.8095238095238095), (0.5555555555555556, 0.8095238095238095), (0.5925925925925926, 0.8095238095238095), (0.6296296296296297, 0.8095238095238095), (0.6296296296296297, 0.7727272727272727), (0.6296296296296297, 0.7391304347826086), (0.6296296296296297, 0.72), (0.6666666666666666, 0.72), (0.6666666666666666, 0.6923076923076923), (0.6666666666666666, 0.6896551724137931), (0.7037037037037037, 0.6896551724137931), (0.7407407407407407, 0.6896551724137931), (0.7407407407407407, 0.6666666666666666), (0.7407407407407407, 0.6451612903225806), (0.7407407407407407, 0.625), (0.7407407407407407, 0.6060606060606061), (0.7407407407407407, 0.6), (0.7777777777777778, 0.6), (0.7777777777777778, 0.5945945945945946), (0.8148148148148148, 0.5945945945945946), (0.8148148148148148, 0.5789473684210527), (0.8148148148148148, 0.5641025641025641), (0.8148148148148148, 0.55)]\n"
     ]
    },
    {
     "data": {
      "image/png": "[encoded data removed]",
      "text/plain": [
       "<Figure size 640x480 with 1 Axes>"
      ]
     },
     "metadata": {},
     "output_type": "display_data"
    }
   ],
   "source": [
    "# PRECISION-RECALL CURVE\n",
    "# Calculate precision and recall values as we move down the ranked list\n",
    "precision_values = [\n",
    "    len([\n",
    "        doc\n",
    "        for doc in results[:idx+1]\n",
    "        if doc['book_id'] in relevant\n",
    "    ]) / (idx+1)\n",
    "    for idx, _ in enumerate(results)\n",
    "]\n",
    "\n",
    "recall_values = [\n",
    "    len([\n",
    "        doc for doc in results[:idx+1]\n",
    "        if doc['book_id'] in relevant\n",
    "    ]) / len(relevant)\n",
    "    for idx, _ in enumerate(results)\n",
    "]\n",
    "\n",
    "# plt.plot(recall_values, precision_values)\n",
    "print([1 if doc['book_id'] in relevant else 0 for doc in results])\n",
    "decreasing_max_precision = np.maximum.accumulate(precision_values[::-1])[::-1]\n",
    "precision_recall_match = list(zip(recall_values, decreasing_max_precision))\n",
    "print(precision_recall_match)\n",
    "# if the last element of recall_values is not 1, add it\n",
    "\n",
    "if recall_values[-1] != 1:\n",
    "    precision_recall_match.append((1, precision_values[-1]))\n",
    "# Plot precision-recall curve\n",
    "plt.xlabel('Recall')\n",
    "plt.ylabel('Precision')\n",
    "plt.title('Interpolated Precision-Recall Curve')\n",
    "plt.plot(*zip(*precision_recall_match))\n",
    "joblib.dump(precision_recall_match, 'base_system.joblib')\n",
    "plt.savefig('precision_recall.pdf')\n",
    "# plt.plot(recall_values, decreasing_max_precision)\n"
   ]
  }
 ],
 "metadata": {
  "kernelspec": {
   "display_name": "Python 3",
   "language": "python",
   "name": "python3"
  },
  "language_info": {
   "codemirror_mode": {
    "name": "ipython",
    "version": 3
   },
   "file_extension": ".py",
   "mimetype": "text/x-python",
   "name": "python",
   "nbconvert_exporter": "python",
   "pygments_lexer": "ipython3",
   "version": "3.11.5"
  }
 },
 "nbformat": 4,
 "nbformat_minor": 5
}
