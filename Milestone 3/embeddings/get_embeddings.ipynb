{
 "cells": [
  {
   "cell_type": "code",
   "execution_count": null,
   "metadata": {},
   "outputs": [],
   "source": [
    "import io\n",
    "import sys\n",
    "import json\n",
    "from sentence_transformers import SentenceTransformer\n",
    "\n",
    "# Load the SentenceTransformer model\n",
    "model = SentenceTransformer('all-MiniLM-L6-v2')"
   ]
  },
  {
   "cell_type": "code",
   "execution_count": null,
   "metadata": {},
   "outputs": [],
   "source": [
    "def get_embedding(text):\n",
    "    # The model.encode() method already returns a list of floats\n",
    "    return model.encode(text, convert_to_tensor=False).tolist()"
   ]
  },
  {
   "cell_type": "code",
   "execution_count": null,
   "metadata": {},
   "outputs": [],
   "source": [
    "# Read JSON file from path\n",
    "with open(\"../../../data/books_data_reviews_sample.json\", 'r', encoding='utf-8') as f:\n",
    "    data = json.load(f)"
   ]
  },
  {
   "cell_type": "code",
   "execution_count": null,
   "metadata": {},
   "outputs": [],
   "source": [
    "# counter\n",
    "i = 0\n",
    "\n",
    "# get time\n",
    "import time\n",
    "start_time = time.time()\n",
    "\n",
    "# Update each document in the JSON data\n",
    "for document in data:\n",
    "    print(\"Processing book: \", i)\n",
    "    # Extract fields with checks for None\n",
    "    book_title = document.get(\"book_title\", \"\") or \"\"\n",
    "    description = document.get(\"description\", \"\") or \"\"\n",
    "    authors = document.get(\"authors\", \"\") or \"\"\n",
    "    categories = document.get(\"categories\", \"\") or \"\"\n",
    "\n",
    "    # Combine relevant text fields\n",
    "    combined_text = book_title + \" \" + description + \" \" + authors + \" \" + categories\n",
    "\n",
    "    # Add additional fields if needed\n",
    "    # For example, you might want to include publisher and publishedYear\n",
    "\n",
    "    \n",
    "\n",
    "    # Process reviews if they exist\n",
    "    reviews = document.get(\"reviews\", [])\n",
    "    if len(reviews) > 0:\n",
    "        for review in reviews:\n",
    "            summary = review.get(\"summary\", \"\") or \"\"\n",
    "            text = review.get(\"text\", \"\") or \"\"\n",
    "\n",
    "            # Combine review summary and text\n",
    "            review_text = summary + \" \" + text\n",
    "            combined_text += \" \" + review_text\n",
    "            # Create an embedding for the review text\n",
    "            # review_embedding = get_embedding(review_text)\n",
    "\n",
    "            # Add the review embedding to the review dictionary\n",
    "            # review[\"vector\"] = review_embedding\n",
    "\n",
    "    # Create an embedding for the combined text\n",
    "    document[\"vector\"] = get_embedding(combined_text)\n",
    "    i += 1\n",
    "\n",
    "    print(\"Time elapsed: \" + str(time.time() - start_time) + \". Estimated time remaining: \" + str((time.time() - start_time) / i * (len(data) - i)/60) + \" minutes\")"
   ]
  },
  {
   "cell_type": "code",
   "execution_count": null,
   "metadata": {},
   "outputs": [],
   "source": [
    "# Save the modified data back to the JSON file\n",
    "with open('../../../data/books_data_reviews_sample_embeddings_new.json', 'w', encoding='utf-8') as file:\n",
    "    json.dump(data, file, ensure_ascii=False, indent=4)"
   ]
  }
 ],
 "metadata": {
  "kernelspec": {
   "display_name": "base",
   "language": "python",
   "name": "python3"
  },
  "language_info": {
   "codemirror_mode": {
    "name": "ipython",
    "version": 3
   },
   "file_extension": ".py",
   "mimetype": "text/x-python",
   "name": "python",
   "nbconvert_exporter": "python",
   "pygments_lexer": "ipython3",
   "version": "3.11.5"
  }
 },
 "nbformat": 4,
 "nbformat_minor": 2
}
