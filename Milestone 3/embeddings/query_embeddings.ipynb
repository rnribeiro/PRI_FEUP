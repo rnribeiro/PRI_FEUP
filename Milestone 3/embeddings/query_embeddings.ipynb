{
 "cells": [
  {
   "cell_type": "code",
   "execution_count": 2,
   "metadata": {},
   "outputs": [],
   "source": [
    "import requests\n",
    "from sentence_transformers import SentenceTransformer\n",
    "import json\n"
   ]
  },
  {
   "cell_type": "code",
   "execution_count": null,
   "metadata": {},
   "outputs": [],
   "source": [
    "\n",
    "def text_to_embedding(text):\n",
    "    model = SentenceTransformer('all-MiniLM-L6-v2')\n",
    "    embedding = model.encode(text, convert_to_tensor=False).tolist()\n",
    "    \n",
    "    # Convert the embedding to the expected format\n",
    "    embedding_str = \"[\" + \",\".join(map(str, embedding)) + \"]\"\n",
    "    return embedding_str\n",
    "\n",
    "def solr_knn_query(endpoint, collection, embedding):\n",
    "    url = f\"{endpoint}/{collection}/select\"\n",
    "\n",
    "    data = {\n",
    "        \"q\": f\"{{!knn f=vector topK=10}}{embedding}\",\n",
    "        \"fl\": \"id,title,description\",\n",
    "        \"rows\": 40,\n",
    "        \"wt\": \"json\"\n",
    "    }\n",
    "    \n",
    "    headers = {\n",
    "        \"Content-Type\": \"application/x-www-form-urlencoded\"\n",
    "    }\n",
    "    \n",
    "    response = requests.post(url, data=data, headers=headers)\n",
    "    response.raise_for_status()\n",
    "    return response.json()\n",
    "\n",
    "def display_results(results):\n",
    "    docs = results.get(\"response\", {}).get(\"docs\", [])\n",
    "    if not docs:\n",
    "        print(\"No results found.\")\n",
    "        return\n",
    "\n",
    "    for doc in docs:\n",
    "        print(f\"* {doc.get('id')} {doc.get('title')} [score: {doc.get('score'):.2f}]\")\n"
   ]
  },
  {
   "cell_type": "code",
   "execution_count": null,
   "metadata": {},
   "outputs": [],
   "source": [
    "solr_endpoint = \"http://localhost:8983/solr\"\n",
    "collection = \"books_m3_embeddings\"\n"
   ]
  },
  {
   "cell_type": "code",
   "execution_count": 3,
   "metadata": {},
   "outputs": [],
   "source": [
    "\n",
    "with open(\"../queries.json\", \"r\") as json_file:\n",
    "    data = json.load(json_file)\n",
    "\n",
    "information_needs = data.get(\"information_needs\", [])\n"
   ]
  },
  {
   "cell_type": "code",
   "execution_count": 5,
   "metadata": {},
   "outputs": [
    {
     "name": "stdout",
     "output_type": "stream",
     "text": [
      "[{'id': 'IN_1', 'query': 'artificial intelligence', 'qrels_file': 'evaluation/IN_1/qrels.txt', 'systems': [{'name': 'base_system', 'query_url': 'http://localhost:8983/solr/books_m2/select?defType=edismax&indent=true&q.op=OR&q=artificial%20intelligence&qf=book_title%20reviews.text%20reviews.summary%20description%20categories&rows=40&useParams=', 'query_params': {'qf': 'book_title reviews.text reviews.summary description categories', 'rows': 40}}, {'name': 'enhanced_system', 'query_url': 'http://localhost:8983/solr/books_m2/select?defType=edismax&indent=true&q.op=OR&q=artificial%20intelligence&qf=book_title%5E2%20reviews.text%5E2%20reviews.summary%20description%20categories&rows=40&useParams=', 'query_params': {'qf': 'book_title^2 reviews.text^2 reviews.summary description categories', 'rows': 40}}, {'name': 'new_schema_system', 'query_url': 'http://localhost:8983/solr/books_m3_new_schema/select?defType=edismax&indent=true&q.op=OR&q=artificial%20intelligence&qf=book_title%5E2%20reviews.text%5E2%20reviews.summary%20description%20categories&rows=40&useParams=', 'query_params': {'qf': 'book_title^2 reviews.text^2 reviews.summary description categories', 'rows': 40}}, {'name': 'synonyms_system', 'query_url': 'http://localhost:8983/solr/books_m3_synonyms/select?defType=edismax&indent=true&q.op=OR&q=artificial%20intelligence&qf=book_title%5E2%20reviews.text%5E2%20reviews.summary%20description%20categories&rows=40&useParams=', 'query_params': {'qf': 'book_title^2 reviews.text^2 reviews.summary description categories', 'rows': 40}}, {'name': 'keywords_system', 'query_url': '', 'query_params': {'qf': 'book_title^2 reviews.text^2 reviews.summary description categories keywords^5', 'rows': 40}}]}, {'id': 'IN_2', 'query': 'fight fights against racism discrimination', 'qrels_file': 'evaluation/IN_2/qrels.txt', 'systems': [{'name': 'base_system', 'query_url': 'http://localhost:8983/solr/books_m2/select?defType=edismax&indent=true&q.op=OR&q=fight%20fights%20against%20racism%20discrimination&qf=book_title%20reviews.text%20reviews.summary%20description%20categories&rows=40&useParams=', 'query_params': {'qf': 'book_title reviews.text reviews.summary description categories', 'rows': 40}}, {'name': 'enhanced_system', 'query_url': 'http://localhost:8983/solr/books_m2/select?defType=edismax&indent=true&q.op=OR&q=fight%20fights%20against%20racism%20discrimination&qf=book_title%5E2%20reviews.text%5E2%20reviews.summary%20description%20categories&rows=40&useParams=', 'query_params': {'qf': 'book_title^2 reviews.text^2 reviews.summary description categories', 'rows': 40}}, {'name': 'new_schema_system', 'query_url': 'http://localhost:8983/solr/books_m3_new_schema/select?defType=edismax&indent=true&q.op=OR&q=fight%20fights%20against%20racism%20discrimination&qf=book_title%5E2%20reviews.text%5E2%20reviews.summary%20description%20categories&rows=40&useParams=', 'query_params': {'qf': 'book_title^2 reviews.text^2 reviews.summary description categories', 'rows': 40}}, {'name': 'synonyms_system', 'query_url': 'http://localhost:8983/solr/books_m3_synonyms/select?defType=edismax&indent=true&q.op=OR&q=fight%20fights%20against%20racism%20discrimination&qf=book_title%5E2%20reviews.text%5E2%20reviews.summary%20description%20categories&rows=40&useParams=', 'query_params': {'qf': 'book_title^2 reviews.text^2 reviews.summary description categories', 'rows': 40}}, {'name': 'keywords_system', 'query_url': '', 'query_params': {'qf': 'book_title^2 reviews.text^2 reviews.summary description categories keywords^5', 'rows': 40}}]}, {'id': 'IN_3', 'query': 'novel AND post-apocalyptic', 'qrels_file': 'evaluation/IN_3/qrels.txt', 'systems': [{'name': 'base_system', 'query_url': 'http://localhost:8983/solr/books_m2/select?defType=edismax&indent=true&q.op=OR&q=novel%20AND%20post-apocalyptic&qf=book_title%20reviews.text%20reviews.summary%20description%20categories&rows=40&useParams=', 'query_params': {'qf': 'book_title reviews.text reviews.summary description categories', 'rows': 40}}, {'name': 'enhanced_system', 'query_url': 'http://localhost:8983/solr/books_m2/select?defType=edismax&indent=true&q.op=OR&q=novel%20AND%20post-apocalyptic&qf=book_title%5E2%20reviews.text%5E2%20reviews.summary%20description%20categories&rows=40&useParams=', 'query_params': {'qf': 'book_title^2 reviews.text^2 reviews.summary description categories', 'rows': 40}}, {'name': 'new_schema_system', 'query_url': 'http://localhost:8983/solr/books_m3_new_schema/select?defType=edismax&indent=true&q.op=OR&q=novel%20AND%20post-apocalyptic&qf=book_title%5E2%20reviews.text%5E2%20reviews.summary%20description%20categories&rows=40&useParams=', 'query_params': {'qf': 'book_title^2 reviews.text^2 reviews.summary description categories', 'rows': 40}}, {'name': 'synonyms_system', 'query_url': 'http://localhost:8983/solr/books_m3_synonyms/select?defType=edismax&indent=true&q.op=OR&q=novel%20AND%20post-apocalyptic&qf=book_title%5E2%20reviews.text%5E2%20reviews.summary%20description%20categories&rows=40&useParams=', 'query_params': {'qf': 'book_title^2 reviews.text^2 reviews.summary description categories', 'rows': 40}}, {'name': 'keywords_system', 'query_url': '', 'query_params': {'qf': 'book_title^2 reviews.text^2 reviews.summary description categories keywords^5', 'rows': 40}}]}, {'id': 'IN_4', 'query': 'american civil war', 'qrels_file': 'evaluation/IN_4/qrels.txt', 'systems': [{'name': 'base_system', 'query_url': 'http://localhost:8983/solr/books_m2/select?defType=edismax&indent=true&q.op=OR&q=%22american%20civil%20war%22&qf=book_title%20reviews.text%20reviews.summary%20description%20categories&rows=40&useParams=', 'query_params': {'qf': 'book_title reviews.text reviews.summary description categories', 'rows': 40}}, {'name': 'enhanced_system', 'query_url': 'http://localhost:8983/solr/books_m2/select?defType=edismax&indent=true&q.op=OR&q=%22american%20civil%20war%22&qf=book_title%5E2%20reviews.text%5E2%20reviews.summary%20description%20categories&rows=40&useParams=', 'query_params': {'qf': 'book_title^2 reviews.text^2 reviews.summary description categories', 'rows': 40}}, {'name': 'new_schema_system', 'query_url': 'http://localhost:8983/solr/books_m3_new_schema/select?defType=edismax&indent=true&q.op=OR&q=%22american%20civil%20war%22&qf=book_title%5E2%20reviews.text%5E2%20reviews.summary%20description%20categories&rows=40&useParams=', 'query_params': {'qf': 'book_title^2 reviews.text^2 reviews.summary description categories', 'rows': 40}}, {'name': 'synonyms_system', 'query_url': 'http://localhost:8983/solr/books_m3_synonyms/select?defType=edismax&indent=true&q.op=OR&q=%22american%20civil%20war%22&qf=book_title%5E2%20reviews.text%5E2%20reviews.summary%20description%20categories&rows=40&useParams=', 'query_params': {'qf': 'book_title^2 reviews.text^2 reviews.summary description categories', 'rows': 40}}, {'name': 'keywords_system', 'query_url': '', 'query_params': {'qf': 'book_title^2 reviews.text^2 reviews.summary description categories keywords^5', 'rows': 40}}]}]\n",
      "['artificial intelligence', 'fight fights against racism discrimination', 'novel AND post-apocalyptic', 'american civil war']\n"
     ]
    }
   ],
   "source": [
    "print(information_needs)\n",
    "# make dict of id and query\n",
    "queries = {}\n",
    "for i in information_needs:\n",
    "    queries[i.get(\"id\")] = i.get(\"query\")\n"
   ]
  },
  {
   "cell_type": "code",
   "execution_count": null,
   "metadata": {},
   "outputs": [],
   "source": [
    "\n",
    "# make dict of id and embedding\n",
    "embeddings = {}\n",
    "for i in queries:\n",
    "    embeddings[i] = text_to_embedding(queries[i])\n"
   ]
  },
  {
   "cell_type": "code",
   "execution_count": null,
   "metadata": {},
   "outputs": [],
   "source": [
    "\n",
    "# make dict of id and results\n",
    "results = {}\n",
    "for i in embeddings:\n",
    "    results[i] = solr_knn_query(solr_endpoint, collection, embeddings[i])\n"
   ]
  },
  {
   "cell_type": "code",
   "execution_count": null,
   "metadata": {},
   "outputs": [],
   "source": [
    "\n",
    "# save each result as json\n",
    "for i in results:\n",
    "    with open(f\"./results/{i}.json\", \"w\") as outfile:\n",
    "        json.dump(results[i], outfile)\n",
    "\n"
   ]
  }
 ],
 "metadata": {
  "kernelspec": {
   "display_name": "base",
   "language": "python",
   "name": "python3"
  },
  "language_info": {
   "codemirror_mode": {
    "name": "ipython",
    "version": 3
   },
   "file_extension": ".py",
   "mimetype": "text/x-python",
   "name": "python",
   "nbconvert_exporter": "python",
   "pygments_lexer": "ipython3",
   "version": "3.11.5"
  }
 },
 "nbformat": 4,
 "nbformat_minor": 2
}
